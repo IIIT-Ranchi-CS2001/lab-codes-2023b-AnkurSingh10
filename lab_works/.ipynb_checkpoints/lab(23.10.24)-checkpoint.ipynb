{
 "cells": [
  {
   "cell_type": "markdown",
   "id": "d44eb380-5685-4103-a95b-e32dfbaa3156",
   "metadata": {},
   "source": [
    "**Define a function my_zip() that can form a list of tuples by iterating the following customer details:- ‘customer Name, customer ID , shopping points’ and based on the keyword parameter ‘strct’: If strct = True, zipping shall be done only if all lists are of equal length. If strct = False, zipping can be done by taking the minimum length of the iterable.**"
   ]
  },
  {
   "cell_type": "code",
   "execution_count": 12,
   "id": "a0604cb5-56f6-4f03-91b2-b4289d821985",
   "metadata": {},
   "outputs": [
    {
     "name": "stdout",
     "output_type": "stream",
     "text": [
      "[('ankur', '10', '45'), ('sutau', '19', '54'), ('vaibhav', '06', '44')]\n"
     ]
    }
   ],
   "source": [
    "def my_zip(customer_name, customer_id, shopping_point, strct=False):\n",
    "    if strct and not (len(customer_name) == len(customer_id) == len(shopping_point)):\n",
    "        raise ValueError(\"All lists must be of equal length when strct=True\")\n",
    "    \n",
    "    min_length = min(len(customer_name), len(customer_id), len(shopping_point))\n",
    "    result = []\n",
    "\n",
    "    for i in range(min_length):\n",
    "        result.append((customer_name[i], customer_id[i], shopping_point[i]))\n",
    "\n",
    "    return result\n",
    "\n",
    "names = ['ankur' , 'sutau' , 'vaibhav']\n",
    "ids = ['10','19','06']\n",
    "points = ['45','54','44']\n",
    "print(my_zip(names , ids , points, True))\n",
    "# print(my_zip(names , ids , points, False))"
   ]
  },
  {
   "cell_type": "markdown",
   "id": "1439a6ae-8c76-4b66-9866-4d1f9caead8d",
   "metadata": {},
   "source": [
    "**Define a function my_sort() to sort the list of tuples created using my_zip function in the last question. The function must have two types of arguments- the list that carry the data, the key that determines the argument of sorting:\n",
    "[Usage of built-in function sorted() is a punishable offense]\n",
    "Key = 0: sorting based on customer name in ascending order\n",
    "Key = 1: sorting based on Customer ID\n",
    "Key = 2: sorting based on shopping points**"
   ]
  },
  {
   "cell_type": "code",
   "execution_count": 21,
   "id": "376d5fc8-f863-4e77-8a16-e7412fcda2d9",
   "metadata": {},
   "outputs": [
    {
     "data": {
      "text/plain": [
       "[('vaibhav', '06', '44'), ('ankur', '10', '45'), ('sutau', '19', '54')]"
      ]
     },
     "execution_count": 21,
     "metadata": {},
     "output_type": "execute_result"
    }
   ],
   "source": [
    "def my_sort(lst, key):\n",
    "    l = len(lst)\n",
    "    for i in range(l):\n",
    "        for j in range(l-i-1):\n",
    "            if(lst[j][key]>lst[j+1][key]):\n",
    "                lst[j],lst[j+1]= lst[j+1],lst[j]\n",
    "lst = my_zip(names,ids,points,True)                \n",
    "my_sort(lst,1)             \n",
    "lst             "
   ]
  },
  {
   "cell_type": "markdown",
   "id": "506bdf31-ff7c-492f-82de-d95cbdf72720",
   "metadata": {},
   "source": [
    "**Write program to define a function my_max() to complete the following tasks: [Usage of built-in function max() is strictly prohibited]\n",
    "If a list of integers is passed as the input argument, the function shall return maximum value present in the list\n",
    "If a set is passed, maximum value present in the list\n",
    "If a tuple is passed, maximum value present in the tuple\n",
    "Hint: Pass the container type unpacked using (*)**"
   ]
  },
  {
   "cell_type": "code",
   "execution_count": 29,
   "id": "87697429-7c59-49bf-b3bc-c8d9cea14cc3",
   "metadata": {},
   "outputs": [
    {
     "name": "stdout",
     "output_type": "stream",
     "text": [
      "56\n",
      "56\n",
      "56\n"
     ]
    }
   ],
   "source": [
    "def my_max(*data):\n",
    "    if(not(type(data) == set  or  type(data) == tuple or type(data) == list)):\n",
    "        raise ValueError(\"data shoud be of type set or list or tuple\")\n",
    "    maxi = 2**(-8)\n",
    "    for i in data:\n",
    "        if(maxi<i):\n",
    "            maxi = i\n",
    "    return maxi        \n",
    "lst = [45,2,1,56]    \n",
    "s = {45,2,1,56}  \n",
    "t = (45,2,1,56)  \n",
    "print(my_max(*lst))\n",
    "print(my_max(*s))\n",
    "print(my_max(*t))"
   ]
  },
  {
   "cell_type": "markdown",
   "id": "0aaeedbe-d56d-42b3-bec5-8e0705e93187",
   "metadata": {},
   "source": [
    "**Write a python script using map, lambda and filter functions to do the following operations on a user inputted comma separated strings: E.g.: “Tom 25 Rahu22 2@$” \n",
    "To find all the letters given in the string and to convert them to uppercase\n",
    "o/p: [‘TOM’]\n",
    "To find all the digits present in the string and to find their squares\n",
    "o/p: [625]\n",
    "To display all the alphanumeric characters present in the string\n",
    "o/p: [“Tom”, ‘25’, “Rahu22”]**"
   ]
  },
  {
   "cell_type": "code",
   "execution_count": 38,
   "id": "2504e8a9-cf84-47e6-9fe3-6ff274c0f8d2",
   "metadata": {},
   "outputs": [
    {
     "name": "stdin",
     "output_type": "stream",
     "text": [
      "enter string ankur 45 an@45 \n"
     ]
    },
    {
     "name": "stdout",
     "output_type": "stream",
     "text": [
      "['ANKUR']\n",
      "[2025]\n",
      "['ANKUR', '45']\n"
     ]
    }
   ],
   "source": [
    "s = input(\"enter string\")\n",
    "w = s.split()\n",
    "letters = list(map(lambda x:x.upper(),filter(lambda x:x.isalpha() ,w)))\n",
    "print(letters) \n",
    "digits = list(map(lambda x:int(x)**2,filter(lambda x:x.isdigit() ,w)))\n",
    "print(digits)               \n",
    "alphanumeric = list(map(lambda x:x.upper() ,filter(lambda x:x.isalnum() ,w)))\n",
    "print(alphanumeric)      "
   ]
  }
 ],
 "metadata": {
  "kernelspec": {
   "display_name": "Python 3 (ipykernel)",
   "language": "python",
   "name": "python3"
  },
  "language_info": {
   "codemirror_mode": {
    "name": "ipython",
    "version": 3
   },
   "file_extension": ".py",
   "mimetype": "text/x-python",
   "name": "python",
   "nbconvert_exporter": "python",
   "pygments_lexer": "ipython3",
   "version": "3.11.4"
  }
 },
 "nbformat": 4,
 "nbformat_minor": 5
}
