{
 "cells": [
  {
   "cell_type": "markdown",
   "id": "4f1c7e87-567c-40d5-8f12-8e09634632fe",
   "metadata": {},
   "source": [
    "**Generate two tuples to represent two distinct points in space. (Three dimensional geometry). Determine the Euclidian distance between the two.**"
   ]
  },
  {
   "cell_type": "code",
   "execution_count": 9,
   "id": "7f93fdd1-9856-4fc2-86ef-f7f86277c7bf",
   "metadata": {},
   "outputs": [
    {
     "name": "stdin",
     "output_type": "stream",
     "text": [
      "enter x1 , y1 , z1 2 4 6\n",
      "enter x2 , y2 , z2 2 6 6\n"
     ]
    },
    {
     "name": "stdout",
     "output_type": "stream",
     "text": [
      "Euclidian distance is 2.0\n"
     ]
    }
   ],
   "source": [
    "t = tuple(map(int , input(\"enter x1 , y1 , z1\").split()))\n",
    "t2 =  tuple(map(int , input(\"enter x2 , y2 , z2\").split()))\n",
    "d = 0\n",
    "for i in range(len(t)):\n",
    "    d = d + (t[i]-t2[i])**2    \n",
    "import math\n",
    "d = math.sqrt(d)\n",
    "print(f\"Euclidian distance is {d}\")\n"
   ]
  },
  {
   "cell_type": "markdown",
   "id": "76aa4f22-f41b-4bf3-90a6-edd5795c0e5f",
   "metadata": {},
   "source": [
    "**Generate three lists using list comprehension. List of names, list of Roll nos and list of marks for Physics exam for all students of the class. Create a list of tuples using the zip function where each tuple carries individual student details. Sort the list of tuples using a sorted function by keeping Marks as the key for sorting**"
   ]
  },
  {
   "cell_type": "code",
   "execution_count": 1,
   "id": "d029ce32-86f3-467d-b2f6-55ca64b9706c",
   "metadata": {},
   "outputs": [
    {
     "name": "stdout",
     "output_type": "stream",
     "text": [
      "[('Vaibhav', 65, 85), ('Ankur', 10, 90), ('Sutanu', 2, 91), ('Ashu', 45, 95)]\n"
     ]
    }
   ],
   "source": [
    "names = [\"Ankur\" , \"Sutanu\" ,  \"Vaibhav\" , \"Ashu\"]\n",
    "roll_nos = [10,2,65,45]\n",
    "marks = [90 , 91 , 85 , 95]\n",
    "t = zip(names , roll_nos , marks)\n",
    "# t = list(t)\n",
    "# t\n",
    "all_students = [x for x in t]\n",
    "sort_stu =sorted(all_students,key =lambda x:x[2])\n",
    "print(sort_stu)"
   ]
  },
  {
   "cell_type": "markdown",
   "id": "b7cb36da-c593-417c-9269-005c734c7167",
   "metadata": {},
   "source": [
    "**Redo question 2 without using zip and sorted functions.**"
   ]
  },
  {
   "cell_type": "code",
   "execution_count": 2,
   "id": "0246ac00-ecd1-4dcc-b481-c873bd20fe36",
   "metadata": {},
   "outputs": [
    {
     "name": "stdout",
     "output_type": "stream",
     "text": [
      "[('Vaibhav', 65, 85), ('Ankur', 10, 90), ('Sutanu', 2, 91), ('Ashu', 45, 95)]\n"
     ]
    }
   ],
   "source": [
    "lst = []\n",
    "for i in range(len(names)):\n",
    "    lst.append((names[i] , roll_nos[i] , marks[i]))\n",
    "for i in range(len(lst)):\n",
    "    for j in range(0 , len(lst)-i-1):\n",
    "        if lst[j][2]>lst[j+1][2]:\n",
    "            lst[j] , lst[j+1] = lst[j+1],lst[j]\n",
    "print(lst)"
   ]
  },
  {
   "cell_type": "code",
   "execution_count": null,
   "id": "24fd6466-ecfc-4107-9805-2ec79f2cc219",
   "metadata": {},
   "outputs": [],
   "source": []
  },
  {
   "cell_type": "code",
   "execution_count": null,
   "id": "9f173d48-c115-408f-b4c2-84d44e49efe9",
   "metadata": {},
   "outputs": [],
   "source": []
  },
  {
   "cell_type": "markdown",
   "id": "a8e32cb2-c407-45c8-b441-9eaeed1a156b",
   "metadata": {},
   "source": [
    "**Enter a string. Determine the count of each letter present in the string using the concept of a dictionary.**"
   ]
  },
  {
   "cell_type": "code",
   "execution_count": 34,
   "id": "f2c9af02-76de-4b16-9f47-6cd5fbae268d",
   "metadata": {},
   "outputs": [
    {
     "name": "stdin",
     "output_type": "stream",
     "text": [
      "enter string ankkssjdur\n"
     ]
    },
    {
     "name": "stdout",
     "output_type": "stream",
     "text": [
      "{'a': 1, 'n': 1, 'k': 2, 's': 2, 'j': 1, 'd': 1, 'u': 1, 'r': 1}\n"
     ]
    }
   ],
   "source": [
    "s = input(\"enter string\").lower()\n",
    "dic = {}\n",
    "for i in s:\n",
    "    dic[i]= dic.get(i, 0) + 1\n",
    "\n",
    "print(dic)\n",
    "    "
   ]
  },
  {
   "cell_type": "markdown",
   "id": "1044f00e-b2b4-48f4-a422-ae380a2aa4b1",
   "metadata": {},
   "source": [
    "**Create a dictionary containing user-inputted names and marks (in percentage) for 5 students. Write a Python program that classifies these students into three categories: \"High Performers\" (marks ≥ 85), \"Average Performers\" (60 ≤ marks < 85), and \"Low Performers\" (marks < 60). The program should print the number of students in each category along with their names. Finally, identify and display the name of the student with the highest marks.**"
   ]
  },
  {
   "cell_type": "code",
   "execution_count": 44,
   "id": "65c85dbe-df61-49a1-9843-9876064ce834",
   "metadata": {},
   "outputs": [
    {
     "name": "stdin",
     "output_type": "stream",
     "text": [
      "Enter name:  ankur\n",
      "Enter ankur's marks (in percentage):  85\n",
      "Enter name:  sutau\n",
      "Enter sutau's marks (in percentage):  98\n",
      "Enter name:  vaibhav\n",
      "Enter vaibhav's marks (in percentage):  45\n",
      "Enter name:  aman\n",
      "Enter aman's marks (in percentage):  65\n",
      "Enter name:  ashu\n",
      "Enter ashu's marks (in percentage):  88\n"
     ]
    },
    {
     "name": "stdout",
     "output_type": "stream",
     "text": [
      "high performers:(3), ['ankur', 'sutau', 'ashu']\n",
      "average performers:(1), ['aman']\n",
      "low performers:(1), ['vaibhav']\n",
      "highest mark by sutau is 98.0\n"
     ]
    }
   ],
   "source": [
    "stu_data = {}\n",
    "for i in range(5):\n",
    "    name = input(\"Enter name: \")\n",
    "    marks = float(input(f\"Enter {name}'s marks (in percentage): \"))\n",
    "    stu_data[name] = marks\n",
    "high_performance  = {name:marks for name, marks in stu_data.items() if marks >=85}\n",
    "avg_performance  = {name:marks for name, marks in stu_data.items() if marks >=60 and  marks<85}\n",
    "low_performance  = { name:marks for name, marks in stu_data.items() if marks <60}\n",
    "\n",
    "print(f\"high performers:({len(high_performance)}), {list(high_performance.keys())}\") \n",
    "print(f\"average performers:({len(avg_performance)}), {list(avg_performance.keys())}\") \n",
    "print(f\"low performers:({len(low_performance)}), {list(low_performance.keys())}\") \n",
    "n =   max(high_performance , key = high_performance.get) \n",
    "print(f\"highest mark by {n} is { high_performance[n]}\")   "
   ]
  },
  {
   "cell_type": "markdown",
   "id": "73ee708b-7025-4367-953f-e082b2b38342",
   "metadata": {},
   "source": [
    "**Create a program that manages employee salaries in a company using a dictionary. The dictionary should contain at least 5 employees, with their names as keys and their respective salaries as values [take user input data]. Implement a sorting algorithm to arrange the employees in descending order based on their salaries without using any built-in sorting functions, and display the sorted list along with their salaries and rank (highest salary first and so on). [Hint: check the second parameter of the enumerate function].**"
   ]
  },
  {
   "cell_type": "code",
   "execution_count": 4,
   "id": "2b774da9-36c7-48de-b4e6-651d99f05031",
   "metadata": {},
   "outputs": [
    {
     "name": "stdin",
     "output_type": "stream",
     "text": [
      "Enter name:  a\n",
      "Enter a's salary:  100000\n",
      "Enter name:  b\n",
      "Enter b's salary:  145000\n",
      "Enter name:  c\n",
      "Enter c's salary:  700070\n",
      "Enter name:  d\n",
      "Enter d's salary:  988500\n",
      "Enter name:  e\n",
      "Enter e's salary:  650000\n"
     ]
    },
    {
     "name": "stdout",
     "output_type": "stream",
     "text": [
      "Name : d   Salary : Rs. 988500.0\n",
      "Name : c   Salary : Rs. 700070.0\n",
      "Name : e   Salary : Rs. 650000.0\n",
      "Name : b   Salary : Rs. 145000.0\n",
      "Name : a   Salary : Rs. 100000.0\n",
      "\n",
      "Employee with the highest salary: d\n"
     ]
    }
   ],
   "source": [
    "salaries = {}\n",
    "for _ in range(5):\n",
    "    name = input(\"Enter name: \")\n",
    "    salary = float(input(f\"Enter {name}'s salary: \"))\n",
    "    salaries[name] = salary\n",
    "l1=[x for x in salaries.keys()]\n",
    "\n",
    "for i in range(5):\n",
    "    for j in range(5-i-1):\n",
    "        if salaries[l1[j+1]]>salaries[l1[j]]:\n",
    "            l1[j],l1[j+1]=l1[j+1],l1[j]\n",
    "for i in l1:\n",
    "    print(f\"Name : {i}   Salary : Rs. {salaries[i]}\")\n",
    "highest_salary_employee = l1[0]\n",
    "print(f\"\\nEmployee with the highest salary: {highest_salary_employee}\")"
   ]
  },
  {
   "cell_type": "code",
   "execution_count": null,
   "id": "cd907d5d-7d82-41d1-ae24-2d4fe2f6a079",
   "metadata": {},
   "outputs": [],
   "source": []
  }
 ],
 "metadata": {
  "kernelspec": {
   "display_name": "Python 3 (ipykernel)",
   "language": "python",
   "name": "python3"
  },
  "language_info": {
   "codemirror_mode": {
    "name": "ipython",
    "version": 3
   },
   "file_extension": ".py",
   "mimetype": "text/x-python",
   "name": "python",
   "nbconvert_exporter": "python",
   "pygments_lexer": "ipython3",
   "version": "3.11.4"
  }
 },
 "nbformat": 4,
 "nbformat_minor": 5
}
