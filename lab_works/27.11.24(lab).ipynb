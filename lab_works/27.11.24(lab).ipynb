{
 "cells": [
  {
   "cell_type": "code",
   "execution_count": 1,
   "id": "27b4e52f-ece1-40be-91a1-339eb231c145",
   "metadata": {},
   "outputs": [],
   "source": [
    "import numpy as np\n",
    "import pandas as pd"
   ]
  },
  {
   "cell_type": "code",
   "execution_count": 14,
   "id": "5e0474b9-1a37-42ba-8174-b7ded6230e34",
   "metadata": {},
   "outputs": [],
   "source": [
    "\n",
    "try:\n",
    "    df = pd.read_csv(\"election_data.csv\")\n",
    "except FileNotFoundError:\n",
    "    data = {\n",
    "    'State': ['Madhya Pradesh', 'Madhya Pradesh', 'Madhya Pradesh', 'Madhya Pradesh',\n",
    "              'Rajasthan', 'Rajasthan', 'Rajasthan', 'Rajasthan'],\n",
    "    'Party': ['BJP', 'INC', 'BSP', 'Others',\n",
    "              'BJP', 'INC', 'BSP', 'Others'],\n",
    "    'Seats_Won': [163, 66, 0, 1, 115, 69, 2, 13],\n",
    "    'Total_Seats': [230, 230, 230, 230, 200, 200, 200, 200],\n",
    "    'Voter_Turnout (%)': [72.1, 72.1, 72.1, 72.1, 74.2, 74.2, 74.2, 74.2]\n",
    "    }\n",
    "\n",
    "    df = pd.DataFrame(data)\n",
    "    df.to_csv(\"election_data.csv\", index = False)\n",
    "    print(\"file has been created\")\n",
    "\n",
    "    "
   ]
  },
  {
   "cell_type": "code",
   "execution_count": 15,
   "id": "69e60335-7a52-4120-90b6-10cb69cbac76",
   "metadata": {},
   "outputs": [
    {
     "data": {
      "text/html": [
       "<div>\n",
       "<style scoped>\n",
       "    .dataframe tbody tr th:only-of-type {\n",
       "        vertical-align: middle;\n",
       "    }\n",
       "\n",
       "    .dataframe tbody tr th {\n",
       "        vertical-align: top;\n",
       "    }\n",
       "\n",
       "    .dataframe thead th {\n",
       "        text-align: right;\n",
       "    }\n",
       "</style>\n",
       "<table border=\"1\" class=\"dataframe\">\n",
       "  <thead>\n",
       "    <tr style=\"text-align: right;\">\n",
       "      <th></th>\n",
       "      <th>State</th>\n",
       "      <th>Party</th>\n",
       "      <th>Seats_Won</th>\n",
       "      <th>Total_Seats</th>\n",
       "      <th>Voter_Turnout (%)</th>\n",
       "    </tr>\n",
       "  </thead>\n",
       "  <tbody>\n",
       "    <tr>\n",
       "      <th>0</th>\n",
       "      <td>Madhya Pradesh</td>\n",
       "      <td>BJP</td>\n",
       "      <td>163</td>\n",
       "      <td>230</td>\n",
       "      <td>72.1</td>\n",
       "    </tr>\n",
       "    <tr>\n",
       "      <th>1</th>\n",
       "      <td>Madhya Pradesh</td>\n",
       "      <td>INC</td>\n",
       "      <td>66</td>\n",
       "      <td>230</td>\n",
       "      <td>72.1</td>\n",
       "    </tr>\n",
       "    <tr>\n",
       "      <th>2</th>\n",
       "      <td>Madhya Pradesh</td>\n",
       "      <td>BSP</td>\n",
       "      <td>0</td>\n",
       "      <td>230</td>\n",
       "      <td>72.1</td>\n",
       "    </tr>\n",
       "    <tr>\n",
       "      <th>3</th>\n",
       "      <td>Madhya Pradesh</td>\n",
       "      <td>Others</td>\n",
       "      <td>1</td>\n",
       "      <td>230</td>\n",
       "      <td>72.1</td>\n",
       "    </tr>\n",
       "    <tr>\n",
       "      <th>4</th>\n",
       "      <td>Rajasthan</td>\n",
       "      <td>BJP</td>\n",
       "      <td>115</td>\n",
       "      <td>200</td>\n",
       "      <td>74.2</td>\n",
       "    </tr>\n",
       "    <tr>\n",
       "      <th>5</th>\n",
       "      <td>Rajasthan</td>\n",
       "      <td>INC</td>\n",
       "      <td>69</td>\n",
       "      <td>200</td>\n",
       "      <td>74.2</td>\n",
       "    </tr>\n",
       "    <tr>\n",
       "      <th>6</th>\n",
       "      <td>Rajasthan</td>\n",
       "      <td>BSP</td>\n",
       "      <td>2</td>\n",
       "      <td>200</td>\n",
       "      <td>74.2</td>\n",
       "    </tr>\n",
       "    <tr>\n",
       "      <th>7</th>\n",
       "      <td>Rajasthan</td>\n",
       "      <td>Others</td>\n",
       "      <td>13</td>\n",
       "      <td>200</td>\n",
       "      <td>74.2</td>\n",
       "    </tr>\n",
       "  </tbody>\n",
       "</table>\n",
       "</div>"
      ],
      "text/plain": [
       "            State   Party  Seats_Won  Total_Seats  Voter_Turnout (%)\n",
       "0  Madhya Pradesh     BJP        163          230               72.1\n",
       "1  Madhya Pradesh     INC         66          230               72.1\n",
       "2  Madhya Pradesh     BSP          0          230               72.1\n",
       "3  Madhya Pradesh  Others          1          230               72.1\n",
       "4       Rajasthan     BJP        115          200               74.2\n",
       "5       Rajasthan     INC         69          200               74.2\n",
       "6       Rajasthan     BSP          2          200               74.2\n",
       "7       Rajasthan  Others         13          200               74.2"
      ]
     },
     "execution_count": 15,
     "metadata": {},
     "output_type": "execute_result"
    }
   ],
   "source": [
    "df"
   ]
  },
  {
   "cell_type": "code",
   "execution_count": 53,
   "id": "ca81972a-3b90-4838-8d25-6ba8c6949d32",
   "metadata": {},
   "outputs": [],
   "source": [
    "df['seat_won in %'] = (df['Seats_Won']/df['Total_Seats']*100).round(3)"
   ]
  },
  {
   "cell_type": "code",
   "execution_count": 54,
   "id": "03607886-e48b-4dfd-9585-47c7080aaeb8",
   "metadata": {},
   "outputs": [
    {
     "data": {
      "text/html": [
       "<div>\n",
       "<style scoped>\n",
       "    .dataframe tbody tr th:only-of-type {\n",
       "        vertical-align: middle;\n",
       "    }\n",
       "\n",
       "    .dataframe tbody tr th {\n",
       "        vertical-align: top;\n",
       "    }\n",
       "\n",
       "    .dataframe thead th {\n",
       "        text-align: right;\n",
       "    }\n",
       "</style>\n",
       "<table border=\"1\" class=\"dataframe\">\n",
       "  <thead>\n",
       "    <tr style=\"text-align: right;\">\n",
       "      <th></th>\n",
       "      <th>State</th>\n",
       "      <th>Party</th>\n",
       "      <th>Seats_Won</th>\n",
       "      <th>Total_Seats</th>\n",
       "      <th>Voter_Turnout (%)</th>\n",
       "      <th>seat_won in %</th>\n",
       "    </tr>\n",
       "  </thead>\n",
       "  <tbody>\n",
       "    <tr>\n",
       "      <th>0</th>\n",
       "      <td>Madhya Pradesh</td>\n",
       "      <td>BJP</td>\n",
       "      <td>163</td>\n",
       "      <td>230</td>\n",
       "      <td>72.1</td>\n",
       "      <td>70.870</td>\n",
       "    </tr>\n",
       "    <tr>\n",
       "      <th>1</th>\n",
       "      <td>Madhya Pradesh</td>\n",
       "      <td>INC</td>\n",
       "      <td>66</td>\n",
       "      <td>230</td>\n",
       "      <td>72.1</td>\n",
       "      <td>28.696</td>\n",
       "    </tr>\n",
       "    <tr>\n",
       "      <th>2</th>\n",
       "      <td>Madhya Pradesh</td>\n",
       "      <td>BSP</td>\n",
       "      <td>0</td>\n",
       "      <td>230</td>\n",
       "      <td>72.1</td>\n",
       "      <td>0.000</td>\n",
       "    </tr>\n",
       "    <tr>\n",
       "      <th>3</th>\n",
       "      <td>Madhya Pradesh</td>\n",
       "      <td>Others</td>\n",
       "      <td>1</td>\n",
       "      <td>230</td>\n",
       "      <td>72.1</td>\n",
       "      <td>0.435</td>\n",
       "    </tr>\n",
       "    <tr>\n",
       "      <th>4</th>\n",
       "      <td>Rajasthan</td>\n",
       "      <td>BJP</td>\n",
       "      <td>115</td>\n",
       "      <td>200</td>\n",
       "      <td>74.2</td>\n",
       "      <td>57.500</td>\n",
       "    </tr>\n",
       "    <tr>\n",
       "      <th>5</th>\n",
       "      <td>Rajasthan</td>\n",
       "      <td>INC</td>\n",
       "      <td>69</td>\n",
       "      <td>200</td>\n",
       "      <td>74.2</td>\n",
       "      <td>34.500</td>\n",
       "    </tr>\n",
       "    <tr>\n",
       "      <th>6</th>\n",
       "      <td>Rajasthan</td>\n",
       "      <td>BSP</td>\n",
       "      <td>2</td>\n",
       "      <td>200</td>\n",
       "      <td>74.2</td>\n",
       "      <td>1.000</td>\n",
       "    </tr>\n",
       "    <tr>\n",
       "      <th>7</th>\n",
       "      <td>Rajasthan</td>\n",
       "      <td>Others</td>\n",
       "      <td>13</td>\n",
       "      <td>200</td>\n",
       "      <td>74.2</td>\n",
       "      <td>6.500</td>\n",
       "    </tr>\n",
       "  </tbody>\n",
       "</table>\n",
       "</div>"
      ],
      "text/plain": [
       "            State   Party  Seats_Won  Total_Seats  Voter_Turnout (%)  \\\n",
       "0  Madhya Pradesh     BJP        163          230               72.1   \n",
       "1  Madhya Pradesh     INC         66          230               72.1   \n",
       "2  Madhya Pradesh     BSP          0          230               72.1   \n",
       "3  Madhya Pradesh  Others          1          230               72.1   \n",
       "4       Rajasthan     BJP        115          200               74.2   \n",
       "5       Rajasthan     INC         69          200               74.2   \n",
       "6       Rajasthan     BSP          2          200               74.2   \n",
       "7       Rajasthan  Others         13          200               74.2   \n",
       "\n",
       "   seat_won in %  \n",
       "0         70.870  \n",
       "1         28.696  \n",
       "2          0.000  \n",
       "3          0.435  \n",
       "4         57.500  \n",
       "5         34.500  \n",
       "6          1.000  \n",
       "7          6.500  "
      ]
     },
     "execution_count": 54,
     "metadata": {},
     "output_type": "execute_result"
    }
   ],
   "source": [
    "df"
   ]
  },
  {
   "cell_type": "code",
   "execution_count": 37,
   "id": "204307a3-965f-4abf-bc1c-56354889ec0a",
   "metadata": {},
   "outputs": [
    {
     "name": "stdout",
     "output_type": "stream",
     "text": [
      "Max seat won in Madhya Pradesh is 163 by BJP\n",
      "Max seat won in Rajasthan is 115 by BJP\n"
     ]
    }
   ],
   "source": [
    "idx = df.groupby('State')['Seats_Won'].idxmax()\n",
    "result = df.loc[idx, ['State', 'Party', 'Seats_Won']]\n",
    "for i, row in result.iterrows():\n",
    "    print(f\"Max seat won in {row['State']} is {row['Seats_Won']} by {row['Party']}\")\n"
   ]
  },
  {
   "cell_type": "code",
   "execution_count": 49,
   "id": "3dbd56b5-b3a2-4e0c-ad50-95f83f05c9fb",
   "metadata": {},
   "outputs": [
    {
     "data": {
      "text/plain": [
       "<matplotlib.legend.Legend at 0x11d163254c0>"
      ]
     },
     "execution_count": 49,
     "metadata": {},
     "output_type": "execute_result"
    },
    {
     "data": {
      "image/png": "[encoded data removed]",
      "text/plain": [
       "<Figure size 800x600 with 1 Axes>"
      ]
     },
     "metadata": {},
     "output_type": "display_data"
    }
   ],
   "source": [
    "import matplotlib.pyplot as plt\n",
    "fig, ax = plt.subplots(figsize=(8, 6))\n",
    "\n",
    "state = df['State'].unique()\n",
    "parties = df['Party'].unique()\n",
    "\n",
    "bar_width = 0.2\n",
    "positions = list(range(len(state)))\n",
    "\n",
    "party_offsets = {\n",
    "    party: i * bar_width for i, party in enumerate(parties)\n",
    "}\n",
    "\n",
    "# Plot bars for each party\n",
    "for party in parties:\n",
    "    party_data = df[df['Party'] == party]\n",
    "    ax.bar(\n",
    "        [p + party_offsets[party] for p in positions],\n",
    "        party_data['Seats_Won'],\n",
    "        bar_width,\n",
    "        label=party\n",
    "    )\n",
    "\n",
    "# Adding labels and title\n",
    "ax.set_xlabel('State')\n",
    "ax.set_ylabel('Seats Won')\n",
    "ax.set_title('Number of Seats Won by Each Party in Each State')\n",
    "ax.set_xticks([p + bar_width for p in positions])\n",
    "ax.set_xticklabels(state)\n",
    "ax.legend(title='Party')"
   ]
  },
  {
   "cell_type": "code",
   "execution_count": 45,
   "id": "c7858f58-7dbd-4bff-8d20-a451c1f37061",
   "metadata": {},
   "outputs": [
    {
     "data": {
      "text/plain": [
       "<matplotlib.legend.Legend at 0x11d7f7eed20>"
      ]
     },
     "execution_count": 45,
     "metadata": {},
     "output_type": "execute_result"
    },
    {
     "data": {
      "image/png": "[encoded data removed]",
      "text/plain": [
       "<Figure size 640x480 with 1 Axes>"
      ]
     },
     "metadata": {},
     "output_type": "display_data"
    }
   ],
   "source": [
    "import seaborn as sns\n",
    "sns.barplot(df , x = \"State\" , y = \"Seats_Won\", hue = \"Party\")\n",
    "plt.title('Number of Seats Won by Each Party in Each State')\n",
    "plt.xlabel('State')\n",
    "plt.ylabel('Seats Won')\n",
    "plt.legend(title='Party')"
   ]
  },
  {
   "cell_type": "code",
   "execution_count": null,
   "id": "e85d4b0c-e4f0-4d54-ba7a-ab218d920e08",
   "metadata": {},
   "outputs": [],
   "source": []
  }
 ],
 "metadata": {
  "kernelspec": {
   "display_name": "Python 3 (ipykernel)",
   "language": "python",
   "name": "python3"
  },
  "language_info": {
   "codemirror_mode": {
    "name": "ipython",
    "version": 3
   },
   "file_extension": ".py",
   "mimetype": "text/x-python",
   "name": "python",
   "nbconvert_exporter": "python",
   "pygments_lexer": "ipython3",
   "version": "3.12.6"
  }
 },
 "nbformat": 4,
 "nbformat_minor": 5
}
