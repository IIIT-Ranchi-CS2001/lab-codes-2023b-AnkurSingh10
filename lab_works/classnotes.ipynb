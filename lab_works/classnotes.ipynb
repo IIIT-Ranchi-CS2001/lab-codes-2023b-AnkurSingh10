{
 "cells": [
  {
   "cell_type": "markdown",
   "id": "f172ee1b-9503-4754-aaac-2f5a270a5ff0",
   "metadata": {},
   "source": [
    "**if-else conditions**"
   ]
  },
  {
   "cell_type": "code",
   "execution_count": 1,
   "id": "93af4b53-1e4f-4672-91d1-bb805820f277",
   "metadata": {},
   "outputs": [
    {
     "name": "stdout",
     "output_type": "stream",
     "text": [
      "yes\n"
     ]
    }
   ],
   "source": [
    "# a = 3\n",
    "a = 2\n",
    "if(a==2):\n",
    "    print(\"yes\")\n",
    "else:\n",
    "    print(\"no\")"
   ]
  },
  {
   "cell_type": "code",
   "execution_count": 2,
   "id": "1c416f9f-c271-4fc8-ac43-2ce764392e08",
   "metadata": {},
   "outputs": [
    {
     "name": "stdout",
     "output_type": "stream",
     "text": [
      "NOT Eligible\n"
     ]
    }
   ],
   "source": [
    "age = 19\n",
    "voter_id = 0\n",
    "if(age>=18 and voter_id):\n",
    "    print(\"Eligible for voting\")\n",
    "else:\n",
    "    print(\"NOT Eligible\")"
   ]
  },
  {
   "cell_type": "code",
   "execution_count": 3,
   "id": "846e3e74-5167-423a-b08c-35f3c5bb282f",
   "metadata": {},
   "outputs": [
    {
     "ename": "KeyboardInterrupt",
     "evalue": "Interrupted by user",
     "output_type": "error",
     "traceback": [
      "\u001b[1;31m---------------------------------------------------------------------------\u001b[0m",
      "\u001b[1;31mKeyboardInterrupt\u001b[0m                         Traceback (most recent call last)",
      "Cell \u001b[1;32mIn[3], line 1\u001b[0m\n\u001b[1;32m----> 1\u001b[0m name \u001b[38;5;241m=\u001b[39m \u001b[38;5;28;43minput\u001b[39;49m\u001b[43m(\u001b[49m\u001b[38;5;124;43m\"\u001b[39;49m\u001b[38;5;124;43mENTER NAME\u001b[39;49m\u001b[38;5;124;43m\"\u001b[39;49m\u001b[43m)\u001b[49m\n\u001b[0;32m      2\u001b[0m roll_no \u001b[38;5;241m=\u001b[39m \u001b[38;5;28mint\u001b[39m(\u001b[38;5;28minput\u001b[39m(\u001b[38;5;124m\"\u001b[39m\u001b[38;5;124mENTER ROLL NUMBER\u001b[39m\u001b[38;5;124m\"\u001b[39m))\n\u001b[0;32m      3\u001b[0m marks \u001b[38;5;241m=\u001b[39m \u001b[38;5;28mint\u001b[39m(\u001b[38;5;28minput\u001b[39m(\u001b[38;5;124m\"\u001b[39m\u001b[38;5;124mENTER MARKS SECURED IN MATHEMATICS\u001b[39m\u001b[38;5;124m\"\u001b[39m))\n",
      "File \u001b[1;32m~\\AppData\\Roaming\\Python\\Python311\\site-packages\\ipykernel\\kernelbase.py:1282\u001b[0m, in \u001b[0;36mKernel.raw_input\u001b[1;34m(self, prompt)\u001b[0m\n\u001b[0;32m   1280\u001b[0m     msg \u001b[38;5;241m=\u001b[39m \u001b[38;5;124m\"\u001b[39m\u001b[38;5;124mraw_input was called, but this frontend does not support input requests.\u001b[39m\u001b[38;5;124m\"\u001b[39m\n\u001b[0;32m   1281\u001b[0m     \u001b[38;5;28;01mraise\u001b[39;00m StdinNotImplementedError(msg)\n\u001b[1;32m-> 1282\u001b[0m \u001b[38;5;28;01mreturn\u001b[39;00m \u001b[38;5;28;43mself\u001b[39;49m\u001b[38;5;241;43m.\u001b[39;49m\u001b[43m_input_request\u001b[49m\u001b[43m(\u001b[49m\n\u001b[0;32m   1283\u001b[0m \u001b[43m    \u001b[49m\u001b[38;5;28;43mstr\u001b[39;49m\u001b[43m(\u001b[49m\u001b[43mprompt\u001b[49m\u001b[43m)\u001b[49m\u001b[43m,\u001b[49m\n\u001b[0;32m   1284\u001b[0m \u001b[43m    \u001b[49m\u001b[38;5;28;43mself\u001b[39;49m\u001b[38;5;241;43m.\u001b[39;49m\u001b[43m_parent_ident\u001b[49m\u001b[43m[\u001b[49m\u001b[38;5;124;43m\"\u001b[39;49m\u001b[38;5;124;43mshell\u001b[39;49m\u001b[38;5;124;43m\"\u001b[39;49m\u001b[43m]\u001b[49m\u001b[43m,\u001b[49m\n\u001b[0;32m   1285\u001b[0m \u001b[43m    \u001b[49m\u001b[38;5;28;43mself\u001b[39;49m\u001b[38;5;241;43m.\u001b[39;49m\u001b[43mget_parent\u001b[49m\u001b[43m(\u001b[49m\u001b[38;5;124;43m\"\u001b[39;49m\u001b[38;5;124;43mshell\u001b[39;49m\u001b[38;5;124;43m\"\u001b[39;49m\u001b[43m)\u001b[49m\u001b[43m,\u001b[49m\n\u001b[0;32m   1286\u001b[0m \u001b[43m    \u001b[49m\u001b[43mpassword\u001b[49m\u001b[38;5;241;43m=\u001b[39;49m\u001b[38;5;28;43;01mFalse\u001b[39;49;00m\u001b[43m,\u001b[49m\n\u001b[0;32m   1287\u001b[0m \u001b[43m\u001b[49m\u001b[43m)\u001b[49m\n",
      "File \u001b[1;32m~\\AppData\\Roaming\\Python\\Python311\\site-packages\\ipykernel\\kernelbase.py:1325\u001b[0m, in \u001b[0;36mKernel._input_request\u001b[1;34m(self, prompt, ident, parent, password)\u001b[0m\n\u001b[0;32m   1322\u001b[0m \u001b[38;5;28;01mexcept\u001b[39;00m \u001b[38;5;167;01mKeyboardInterrupt\u001b[39;00m:\n\u001b[0;32m   1323\u001b[0m     \u001b[38;5;66;03m# re-raise KeyboardInterrupt, to truncate traceback\u001b[39;00m\n\u001b[0;32m   1324\u001b[0m     msg \u001b[38;5;241m=\u001b[39m \u001b[38;5;124m\"\u001b[39m\u001b[38;5;124mInterrupted by user\u001b[39m\u001b[38;5;124m\"\u001b[39m\n\u001b[1;32m-> 1325\u001b[0m     \u001b[38;5;28;01mraise\u001b[39;00m \u001b[38;5;167;01mKeyboardInterrupt\u001b[39;00m(msg) \u001b[38;5;28;01mfrom\u001b[39;00m \u001b[38;5;28;01mNone\u001b[39;00m\n\u001b[0;32m   1326\u001b[0m \u001b[38;5;28;01mexcept\u001b[39;00m \u001b[38;5;167;01mException\u001b[39;00m:\n\u001b[0;32m   1327\u001b[0m     \u001b[38;5;28mself\u001b[39m\u001b[38;5;241m.\u001b[39mlog\u001b[38;5;241m.\u001b[39mwarning(\u001b[38;5;124m\"\u001b[39m\u001b[38;5;124mInvalid Message:\u001b[39m\u001b[38;5;124m\"\u001b[39m, exc_info\u001b[38;5;241m=\u001b[39m\u001b[38;5;28;01mTrue\u001b[39;00m)\n",
      "\u001b[1;31mKeyboardInterrupt\u001b[0m: Interrupted by user"
     ]
    }
   ],
   "source": [
    "name = input(\"ENTER NAME\")\n",
    "roll_no = int(input(\"ENTER ROLL NUMBER\"))\n",
    "marks = int(input(\"ENTER MARKS SECURED IN MATHEMATICS\"))\n",
    "print(f\"NAME:{name}\\n Rollno:{roll_no}\\n marks:{marks}\")\n",
    "if(marks>=90):\n",
    "    print(f\"  GRADE:{10}\\n remarks:{'OUTSTANDING'}\")\n",
    "elif(marks>=80 and marks<90):\n",
    "    print(f\"GRADE:{9}\\n remarks:{'VERY GOOD'}\")\n",
    "elif(marks>=70 and marks<80):\n",
    "     print(f\"GRADE:{8} \\n remarks:{'GOOD'}\")\n",
    "elif(marks>=60 and marks<70):\n",
    "     print(f\"GRADE:{7}\\n remarks:{'AVERAGE'}\")\n",
    "elif(marks>=50 and marks<60):\n",
    "     print(f\"GRADE:{6} \\n remarks: {'PASS'}\")\n",
    "elif(marks<50):\n",
    "     print(f\"GRADE:{0}\\n  remarks:{'FAIL'}\")\n",
    "    "
   ]
  },
  {
   "cell_type": "markdown",
   "id": "93ff0a09-a5ed-42a9-b983-71e1de5726b4",
   "metadata": {},
   "source": [
    "**while loop**"
   ]
  },
  {
   "cell_type": "code",
   "execution_count": null,
   "id": "725a4caa-bda4-4798-8ef1-e7b048fc796d",
   "metadata": {},
   "outputs": [],
   "source": [
    "a = 8\n",
    "while(a>1):\n",
    "    if(a==3):\n",
    "        continue\n",
    "    print(\"hello guys\")\n",
    "    a = a-1\n",
    "    "
   ]
  },
  {
   "cell_type": "code",
   "execution_count": null,
   "id": "6ef4afac-a5f0-411c-badd-4627ba6b218f",
   "metadata": {},
   "outputs": [],
   "source": [
    "mystr = 'python'\n",
    "x = -1\n",
    "newstr = ''\n",
    "while(x<len(mystr)-1):\n",
    "    x = x+1\n",
    "    if(mystr[x] in ['a','e','i','o','u']):\n",
    "        newstr = newstr+'#'\n",
    "        continue\n",
    "    newstr = newstr+mystr[x]\n",
    "print(newstr)"
   ]
  },
  {
   "cell_type": "markdown",
   "id": "2aa5fc4d-858a-4693-bc26-daaa7b00221c",
   "metadata": {},
   "source": [
    "**for loop**\n"
   ]
  },
  {
   "cell_type": "code",
   "execution_count": null,
   "id": "c6b94aa9-24ea-4bf9-b54c-f33000309901",
   "metadata": {},
   "outputs": [],
   "source": [
    "a = (1,2,3,4,5,6)\n",
    "for i in a:\n",
    "    print(i)\n",
    "b = 'ANKUR' \n",
    "for i in b:\n",
    "    print(i)"
   ]
  },
  {
   "cell_type": "code",
   "execution_count": null,
   "id": "2bcdd1e8-4f1e-4420-8e57-74e9ed95969b",
   "metadata": {},
   "outputs": [],
   "source": [
    "for i in range(1,10,2): #starting , end , steps\n",
    "    print(i)\n",
    "for i in range(1,10,-1): #gives empty seq\n",
    "    print(i)"
   ]
  },
  {
   "cell_type": "code",
   "execution_count": null,
   "id": "a0a3fa1e-daa4-44ef-aed1-8d42ebb43f51",
   "metadata": {},
   "outputs": [],
   "source": [
    "s = 'python'\n",
    "for i in enumerate(s): #gives index and value in tuple form\n",
    "    print(i)\n",
    "for i,j in enumerate(s): \n",
    "    print(j)"
   ]
  },
  {
   "cell_type": "code",
   "execution_count": null,
   "id": "db5a7956-b33f-4a3d-b455-bdc3ce187240",
   "metadata": {},
   "outputs": [],
   "source": [
    "s = 'Ankur'\n",
    "chk = 0\n",
    "for i in s:\n",
    "    if(i in ['a','e','i','o','u','A','E','I','O','U']):\n",
    "        chk = 1\n",
    "if(chk):\n",
    "    print(\"vowel is present\")\n",
    "else:\n",
    "    print(\"No Vowel\")"
   ]
  },
  {
   "cell_type": "markdown",
   "id": "31883619-0f51-4a0c-9f3d-28e7a4ac6d27",
   "metadata": {},
   "source": [
    "**LIST**"
   ]
  },
  {
   "cell_type": "code",
   "execution_count": null,
   "id": "aef52b81-d981-4f69-a761-d60534486190",
   "metadata": {},
   "outputs": [],
   "source": [
    "list = [1,2,'a','ankur']\n"
   ]
  },
  {
   "cell_type": "markdown",
   "id": "d9476580-aa5e-4b4f-ab1f-94b22b720469",
   "metadata": {},
   "source": [
    "**11.09.2024**"
   ]
  },
  {
   "cell_type": "code",
   "execution_count": null,
   "id": "e87e0272-6037-46c7-9976-c78ecc9b0a16",
   "metadata": {},
   "outputs": [],
   "source": [
    "list[0]=7"
   ]
  },
  {
   "cell_type": "code",
   "execution_count": null,
   "id": "8928c70e-2f91-4f46-a188-24d3ea119f6e",
   "metadata": {},
   "outputs": [],
   "source": [
    "list.append('sutau')\n"
   ]
  },
  {
   "cell_type": "code",
   "execution_count": null,
   "id": "6dc398d4-1efb-4d67-9e66-04a6919e9079",
   "metadata": {},
   "outputs": [],
   "source": [
    "n=len(list)\n",
    "for i in range(0,n):\n",
    "    print(list[i])"
   ]
  },
  {
   "cell_type": "code",
   "execution_count": null,
   "id": "bdca37ce-fa4c-4e43-8ac9-209e345e112a",
   "metadata": {},
   "outputs": [],
   "source": [
    "help(list)"
   ]
  },
  {
   "cell_type": "code",
   "execution_count": null,
   "id": "c1103f83-524e-4a67-b952-e781b3231497",
   "metadata": {},
   "outputs": [],
   "source": [
    "list2=list\n",
    "print(list2)"
   ]
  },
  {
   "cell_type": "code",
   "execution_count": null,
   "id": "b40b06bf-57d2-467a-9e34-e1c5895b3d72",
   "metadata": {},
   "outputs": [],
   "source": [
    "list.append(66)"
   ]
  },
  {
   "cell_type": "code",
   "execution_count": null,
   "id": "cb748ca8-308c-449d-b9a2-428a1b310d79",
   "metadata": {},
   "outputs": [],
   "source": [
    "list2"
   ]
  },
  {
   "cell_type": "code",
   "execution_count": null,
   "id": "efd2287e-5113-47cc-b7a9-869eb5053408",
   "metadata": {},
   "outputs": [],
   "source": [
    "list3 = list.copy()\n",
    "list.append(99)\n",
    "list3"
   ]
  },
  {
   "cell_type": "code",
   "execution_count": null,
   "id": "ff6d64a0-f38b-4f53-8ab4-1fd326113c41",
   "metadata": {},
   "outputs": [],
   "source": [
    "list3.extend(\"test\")\n",
    "list3"
   ]
  },
  {
   "cell_type": "code",
   "execution_count": null,
   "id": "8ea07139-9634-4b7f-bcc7-1b4fe53473c9",
   "metadata": {},
   "outputs": [],
   "source": [
    "a = \"gyan_prakasj\"\n",
    "a[-4:-9:1]"
   ]
  },
  {
   "cell_type": "code",
   "execution_count": null,
   "id": "fa391fda-83f5-4607-aec8-2a8401259b28",
   "metadata": {},
   "outputs": [],
   "source": [
    "a[-4:-9:-1]"
   ]
  },
  {
   "cell_type": "code",
   "execution_count": null,
   "id": "c0e9291e-5e6f-4e6b-b014-7e0e73e27128",
   "metadata": {},
   "outputs": [],
   "source": [
    "'1'+'1'"
   ]
  },
  {
   "cell_type": "code",
   "execution_count": null,
   "id": "1d61bc25-e954-4983-8abb-e668e46a8af6",
   "metadata": {},
   "outputs": [],
   "source": [
    "'y' in a"
   ]
  },
  {
   "cell_type": "code",
   "execution_count": null,
   "id": "e1749b83-c2ee-4035-834b-9202d0540d4a",
   "metadata": {},
   "outputs": [],
   "source": [
    "l1 = [1,2,3]\n",
    "l2 = [4,5,*l1]\n",
    "l3 = [4,5,l1]\n",
    "l2.insert(2,'A')\n",
    "print(l2)\n",
    "print(l3)"
   ]
  },
  {
   "cell_type": "code",
   "execution_count": null,
   "id": "0185669a-34f2-4663-881b-94fc0b590b19",
   "metadata": {},
   "outputs": [],
   "source": [
    "s = [40,25,1,91,22,0]\n",
    "s.sort()\n",
    "s"
   ]
  },
  {
   "cell_type": "markdown",
   "id": "fd050638-52d5-4c6e-b518-22b544833b80",
   "metadata": {},
   "source": [
    "**12.09.2024**"
   ]
  },
  {
   "cell_type": "code",
   "execution_count": null,
   "id": "786cd212-a68f-4c79-839d-38a5f7756113",
   "metadata": {},
   "outputs": [],
   "source": [
    "l1 = [4,2,5,6]\n",
    "l1.sort() \n",
    "l1"
   ]
  },
  {
   "cell_type": "raw",
   "id": "6fd47ae2-1b2e-43fe-bcfd-39301939cc9c",
   "metadata": {},
   "source": [
    "l1 = [5,2,1,6]\n",
    "l2  =sorted(l1)\n",
    "l1"
   ]
  },
  {
   "cell_type": "code",
   "execution_count": null,
   "id": "c4ad17e6-c1c5-49ae-8915-d46fcff50ca5",
   "metadata": {},
   "outputs": [],
   "source": [
    "l3 = [\"ankur\" , \" btech\" , \"iiitrnanchi\"]\n",
    "l4 = ' '.join(l3)\n",
    "l4"
   ]
  },
  {
   "cell_type": "code",
   "execution_count": null,
   "id": "91ce86e8-1c6b-49d5-bdf4-84606ea56e77",
   "metadata": {},
   "outputs": [],
   "source": [
    "l1 = [1,2,3,4,5,6,7,8,9]\n",
    "l2 = [x**2 for x in l1]\n",
    "l3 = [x**2 for x in l1 if x%2==0]\n",
    "print(l2)\n",
    "print(l3)"
   ]
  },
  {
   "cell_type": "code",
   "execution_count": null,
   "id": "5d779aa1-85cb-4278-8975-3c1a25d3d705",
   "metadata": {},
   "outputs": [],
   "source": [
    "l = [i for i in range(20,51) if i%2 ==0]\n",
    "print( l)"
   ]
  },
  {
   "cell_type": "code",
   "execution_count": null,
   "id": "1e968327-2f5e-4213-af75-821d9dd56c42",
   "metadata": {},
   "outputs": [],
   "source": [
    "l = [n*n if n>5 else n*n*n for n in range(0,9)]\n",
    "l"
   ]
  },
  {
   "cell_type": "code",
   "execution_count": null,
   "id": "249b7902-04a6-4406-8398-e5bd65ac1c8e",
   "metadata": {},
   "outputs": [],
   "source": [
    "a = \"gyan prakash\"\n",
    "g = ['*' if i in \"aeiouAEIOU\" else i for i in a]\n",
    "g"
   ]
  },
  {
   "cell_type": "code",
   "execution_count": null,
   "id": "931dda89-0416-45bf-b206-962adf005577",
   "metadata": {},
   "outputs": [],
   "source": [
    "m = [[1,2,3],[4,5,6],[7,8,9]]\n",
    "print(m[0][2])"
   ]
  },
  {
   "cell_type": "code",
   "execution_count": null,
   "id": "b199fbea-c32e-40a5-b1f9-7b1029f70c81",
   "metadata": {},
   "outputs": [],
   "source": [
    "for r in m:\n",
    "    print(r)"
   ]
  },
  {
   "cell_type": "code",
   "execution_count": null,
   "id": "17d2ef70-c705-4f6d-a5da-ceed294470c7",
   "metadata": {},
   "outputs": [],
   "source": [
    "for i in m:\n",
    "    for j in i:\n",
    "        print(j)"
   ]
  },
  {
   "cell_type": "code",
   "execution_count": null,
   "id": "50f7e906-2748-46a2-bb39-ec1e315a5295",
   "metadata": {},
   "outputs": [],
   "source": [
    "for i in [ l for r in m for l in r]:\n",
    "    print(i)"
   ]
  },
  {
   "cell_type": "markdown",
   "id": "fb9fec38-14ff-4d9b-b38f-3e17ec4fca0b",
   "metadata": {},
   "source": [
    "**TUPLE**"
   ]
  },
  {
   "cell_type": "code",
   "execution_count": null,
   "id": "9bca9008-b922-4c7c-9b8f-0aaf53640072",
   "metadata": {},
   "outputs": [],
   "source": [
    "a = (1,2,\"an\")\n",
    "b = \"ankur\" #string\n",
    "c = tuple(b)\n",
    "type(c)"
   ]
  },
  {
   "cell_type": "code",
   "execution_count": null,
   "id": "020d4d04-fc1b-4d6a-86e3-dc18926fa0b0",
   "metadata": {},
   "outputs": [],
   "source": [
    "t1 = 1,2,3\n",
    "t2 = 4,t1 ,6\n",
    "t2"
   ]
  },
  {
   "cell_type": "code",
   "execution_count": null,
   "id": "d0786382-8c29-469a-a417-ff0aa42630d4",
   "metadata": {},
   "outputs": [],
   "source": [
    "t3 = 4,*t1 ,6\n",
    "t3"
   ]
  },
  {
   "cell_type": "code",
   "execution_count": null,
   "id": "01d3241a-9cbe-4e00-b672-016fd6421951",
   "metadata": {},
   "outputs": [],
   "source": [
    "students = (\"ankur\" , \"gyan\" , \"amrit\" , \"vaibhav\" , \"sutanu\")\n",
    "marks = (85,86,87,68,85)\n",
    "tp = zip(students , marks)\n",
    "res =  tuple(tp)\n",
    "lst = list(res)\n",
    "lst.sort(key = lambda x:x[1])\n",
    "print(lst)\n",
    "print(lst[0] )\n",
    "print(lst[len(lst)-1] )\n",
    "cnt = 0\n",
    "for i in lst:\n",
    "    if(i[1]>75):\n",
    "        cnt+=1\n",
    "print(cnt)  \n"
   ]
  },
  {
   "cell_type": "markdown",
   "id": "192246c9-da46-4ed5-b77d-b5970616f0f7",
   "metadata": {},
   "source": [
    "**Set**"
   ]
  },
  {
   "cell_type": "code",
   "execution_count": null,
   "id": "512672c0-cf42-47c4-9cb0-a9b78c072cfb",
   "metadata": {},
   "outputs": [],
   "source": [
    " empty_set = set()\n",
    " st = {\"an\" , 1 ,2 ,3, 3.2}\n",
    "st"
   ]
  },
  {
   "cell_type": "markdown",
   "id": "8f42c3c0-9f87-4b1c-b03f-7cc7f7ef6f79",
   "metadata": {},
   "source": [
    "**dict**"
   ]
  },
  {
   "cell_type": "code",
   "execution_count": null,
   "id": "666e1bda-dcc9-4972-8c23-94b4f96952a0",
   "metadata": {},
   "outputs": [],
   "source": [
    "## mydict =  {key:val , key2:val}\n",
    "##key->unique , immutable\n",
    "##dict -> ordered , mutable\n",
    "d = {1:4 , 8:9, 5:6}\n",
    "d"
   ]
  },
  {
   "cell_type": "code",
   "execution_count": null,
   "id": "3fbdb128-8918-4485-ad8d-95f7f298d024",
   "metadata": {},
   "outputs": [],
   "source": [
    "student = {\n",
    "    \"name\":\"ankur\",\n",
    "    \"age\":19,\n",
    "    \"department\":\"DS AND AI\"\n",
    "}\n",
    "print(student.get(\"name\"))\n",
    "print(student.get(\"section\"))"
   ]
  },
  {
   "cell_type": "code",
   "execution_count": null,
   "id": "2577ba39-11d5-443c-8904-0975896e81a6",
   "metadata": {},
   "outputs": [],
   "source": [
    "student[\"age\"] = 20\n",
    "student"
   ]
  },
  {
   "cell_type": "code",
   "execution_count": null,
   "id": "e54829c9-a791-4b09-ac3e-86645991fa25",
   "metadata": {},
   "outputs": [],
   "source": [
    "a = student.pop(\"age\")\n",
    "print(a)\n",
    "student[\"age\"] = 20"
   ]
  },
  {
   "cell_type": "code",
   "execution_count": null,
   "id": "a36f4e99-f2da-4179-b1f0-a2ce787bd622",
   "metadata": {},
   "outputs": [],
   "source": [
    "print([*student]) #return keys\n",
    "stu2 = {\n",
    "     \"name\":\"ankur2\",\n",
    "    \"age\":19,\n",
    "    \"department\":\"DS AND AI\"\n",
    "}"
   ]
  },
  {
   "cell_type": "code",
   "execution_count": null,
   "id": "1befe020-8dbd-4531-bdb5-db279d7732b1",
   "metadata": {},
   "outputs": [],
   "source": [
    "df = {**student , **stu2}\n",
    "df"
   ]
  },
  {
   "cell_type": "code",
   "execution_count": null,
   "id": "87dbe5af-f052-4498-b185-e6fc6ba00044",
   "metadata": {},
   "outputs": [],
   "source": [
    "student.update({\"section\":\"B\"})\n",
    "student"
   ]
  },
  {
   "cell_type": "code",
   "execution_count": null,
   "id": "e5a00905-f65c-4224-ae3b-7f8dfb64f6a1",
   "metadata": {},
   "outputs": [],
   "source": [
    "sq = {x:x*x for x in range(1,15) if x%2 ==0}\n",
    "sq"
   ]
  },
  {
   "cell_type": "code",
   "execution_count": null,
   "id": "a73591f8-9461-4802-803c-bc9a0aaa9769",
   "metadata": {},
   "outputs": [],
   "source": [
    "d = {\n",
    "    4:\"one\",\n",
    "    2:\"three\",\n",
    "    5:\"zero\"\n",
    "}\n",
    "t = sorted(d)\n",
    "x = d.get(5)\n",
    "m  = max(d)\n",
    "print(m)\n",
    "n = max(d , key = d.get)\n",
    "print(n)\n",
    "\n"
   ]
  },
  {
   "cell_type": "code",
   "execution_count": null,
   "id": "10f942de-1930-4094-a31d-69bde535e44e",
   "metadata": {},
   "outputs": [],
   "source": [
    "grades = {\n",
    "    \"ankur\": 90,\n",
    "    \"gyan\":98,\n",
    "    \"shivang\":100,\n",
    "    \"abhiiiiii\":95,\n",
    "    \"amrit\":97\n",
    "}\n",
    "grades.update({\"aman\":93})\n",
    "grades.update(\n",
    "{\"shivang\":  101}\n",
    ")\n",
    "grades.pop(\"ankur\")\n",
    "grades"
   ]
  },
  {
   "cell_type": "code",
   "execution_count": null,
   "id": "5ca59abc-a2af-43a3-abed-35fd011d4ea3",
   "metadata": {},
   "outputs": [],
   "source": [
    "hig = max(grades , key = grades.\n",
    "hig"
   ]
  },
  {
   "cell_type": "markdown",
   "id": "76b63e75-9e50-4a98-baa0-860747aa9df3",
   "metadata": {},
   "source": [
    "**functions**"
   ]
  },
  {
   "cell_type": "code",
   "execution_count": null,
   "id": "f2b069f2-e97e-43e6-ad59-c49b3be371ed",
   "metadata": {},
   "outputs": [],
   "source": [
    "print(round(9.5))\n",
    "print(round(2.5))"
   ]
  },
  {
   "cell_type": "code",
   "execution_count": 7,
   "id": "4e43e14e-ad77-4a07-b0b4-e162c88c1abb",
   "metadata": {},
   "outputs": [
    {
     "data": {
      "text/plain": [
       "27"
      ]
     },
     "execution_count": 7,
     "metadata": {},
     "output_type": "execute_result"
    }
   ],
   "source": [
    "def ankur(x):\n",
    "   return x**x;\n",
    "ankur(3)"
   ]
  },
  {
   "cell_type": "code",
   "execution_count": null,
   "id": "b4af2cd7-7eca-4589-acc7-8eda7768ac54",
   "metadata": {},
   "outputs": [],
   "source": [
    "import math\n",
    "print(math.log(10)) #base e\n",
    "print(math.log(10,2))#base 2\n",
    "print(math.pi)"
   ]
  },
  {
   "cell_type": "code",
   "execution_count": 5,
   "id": "ede1db66-ff67-441d-9649-ec4a7e83a090",
   "metadata": {},
   "outputs": [
    {
     "name": "stdout",
     "output_type": "stream",
     "text": [
      "1.1480476881307387\n",
      "1\n",
      "i\n",
      "17\n",
      "None\n",
      "[4, 1, 5, 2, 3]\n"
     ]
    },
    {
     "data": {
      "text/plain": [
       "\u001b[1;31mSignature:\u001b[0m \u001b[0mrandom\u001b[0m\u001b[1;33m.\u001b[0m\u001b[0mseed\u001b[0m\u001b[1;33m(\u001b[0m\u001b[0ma\u001b[0m\u001b[1;33m=\u001b[0m\u001b[1;32mNone\u001b[0m\u001b[1;33m,\u001b[0m \u001b[0mversion\u001b[0m\u001b[1;33m=\u001b[0m\u001b[1;36m2\u001b[0m\u001b[1;33m)\u001b[0m\u001b[1;33m\u001b[0m\u001b[1;33m\u001b[0m\u001b[0m\n",
       "\u001b[1;31mDocstring:\u001b[0m\n",
       "Initialize internal state from a seed.\n",
       "\n",
       "The only supported seed types are None, int, float,\n",
       "str, bytes, and bytearray.\n",
       "\n",
       "None or no argument seeds from current time or from an operating\n",
       "system specific randomness source if available.\n",
       "\n",
       "If *a* is an int, all bits are used.\n",
       "\n",
       "For version 2 (the default), all of the bits are used if *a* is a str,\n",
       "bytes, or bytearray.  For version 1 (provided for reproducing random\n",
       "sequences from older versions of Python), the algorithm for str and\n",
       "bytes generates a narrower range of seeds.\n",
       "\u001b[1;31mFile:\u001b[0m      c:\\users\\ankur\\appdata\\local\\programs\\python\\python311\\lib\\random.py\n",
       "\u001b[1;31mType:\u001b[0m      method"
      ]
     },
     "metadata": {},
     "output_type": "display_data"
    }
   ],
   "source": [
    "import random \n",
    "print(random.random()*9+1)\n",
    "print(random.randint(1,10))\n",
    "print(random.choice(\"aeiou\"))\n",
    "print(random.randrange(1,20,2))\n",
    "l=[1,2,3,4,5]\n",
    "print(random.shuffle(l)) #returns NULL\n",
    "print(l)\n",
    "random.seed?"
   ]
  },
  {
   "cell_type": "code",
   "execution_count": 28,
   "id": "c0c4635b-0501-4567-8095-6583b2577611",
   "metadata": {},
   "outputs": [
    {
     "name": "stdout",
     "output_type": "stream",
     "text": [
      "14.0\n"
     ]
    }
   ],
   "source": [
    "def sumi(a,b,c,d=6):\n",
    "    return a+b+c+d\n",
    "print(sumi(2*2 , 4/2 ,5//2))"
   ]
  },
  {
   "cell_type": "code",
   "execution_count": 37,
   "id": "49770cba-e030-4a38-8872-452bb132da1c",
   "metadata": {},
   "outputs": [
    {
     "data": {
      "image/png": "[encoded data removed]",
      "text/plain": [
       "<Figure size 1200x600 with 2 Axes>"
      ]
     },
     "metadata": {},
     "output_type": "display_data"
    }
   ],
   "source": [
    "import matplotlib.pyplot as plt\n",
    "import numpy as np\n",
    "import pandas as pd\n",
    "\n",
    "\n",
    "df = pd.read_csv(\"Salary.csv\")\n",
    "x = df['YearsExperience']\n",
    "y = df['Salary']\n",
    "\n",
    "fig, ax = plt.subplots(1, 2, figsize=(12, 6))\n",
    "ax[0].scatter(x, y)\n",
    "ax[0].set_xlabel('Years of Experience')\n",
    "ax[0].set_ylabel('Salary')\n",
    "ax[0].set_title('Salary vs Years of Experience')\n",
    "ax[0].grid(True)\n",
    "\n",
    "\n",
    "name = np.array([\"potato\", \"tomato\", \"chilly\", \"egg\", \"onion\"])\n",
    "price = np.array([65, 24, 15, 45, 50])\n",
    "ax[1].plot(name, price, c='r', linestyle = '--')\n",
    "ax[1].set_xlabel('Name')\n",
    "ax[1].set_ylabel('Price')\n",
    "ax[1].set_title('Price Analysis')\n",
    "ax[1].grid(True)\n",
    "\n",
    "plt.tight_layout()\n",
    "plt.show()\n"
   ]
  },
  {
   "cell_type": "code",
   "execution_count": 41,
   "id": "d4aa81b9-a7f5-4bf3-8d50-cbdcc9801aa6",
   "metadata": {},
   "outputs": [
    {
     "data": {
      "text/plain": [
       "[<matplotlib.lines.Line2D at 0x21f195f5e90>]"
      ]
     },
     "execution_count": 41,
     "metadata": {},
     "output_type": "execute_result"
    },
    {
     "data": {
      "image/png": "[encoded data removed]",
      "text/plain": [
       "<Figure size 640x480 with 1 Axes>"
      ]
     },
     "metadata": {},
     "output_type": "display_data"
    }
   ],
   "source": [
    "x = np.array([1,2,3 ,8 , 9 , 4])\n",
    "plt.plot(x,np.cos(x))"
   ]
  },
  {
   "cell_type": "code",
   "execution_count": 46,
   "id": "156a1a76-b70f-4815-aa58-9ea5a9215b9b",
   "metadata": {},
   "outputs": [
    {
     "data": {
      "text/plain": [
       "<BarContainer object of 5 artists>"
      ]
     },
     "execution_count": 46,
     "metadata": {},
     "output_type": "execute_result"
    },
    {
     "data": {
      "image/png": "[encoded data removed]",
      "text/plain": [
       "<Figure size 640x480 with 1 Axes>"
      ]
     },
     "metadata": {},
     "output_type": "display_data"
    }
   ],
   "source": [
    "plt.bar(price ,name)"
   ]
  },
  {
   "cell_type": "code",
   "execution_count": 56,
   "id": "7aac2e9d-5995-480c-970f-ec5703e47dd5",
   "metadata": {},
   "outputs": [
    {
     "data": {
      "text/plain": [
       "(array([[50.,  0.,  0.,  0.,  0.,  0.,  0.,  0.,  0.,  0.],\n",
       "        [ 0.,  0.,  4.,  7.,  9.,  3.,  8.,  4., 12.,  3.]]),\n",
       " array([1.1000000e+00, 1.4576990e+04, 2.9152880e+04, 4.3728770e+04,\n",
       "        5.8304660e+04, 7.2880550e+04, 8.7456440e+04, 1.0203233e+05,\n",
       "        1.1660822e+05, 1.3118411e+05, 1.4576000e+05]),\n",
       " <a list of 2 BarContainer objects>)"
      ]
     },
     "execution_count": 56,
     "metadata": {},
     "output_type": "execute_result"
    },
    {
     "data": {
      "image/png": "[encoded data removed]",
      "text/plain": [
       "<Figure size 640x480 with 1 Axes>"
      ]
     },
     "metadata": {},
     "output_type": "display_data"
    }
   ],
   "source": [
    "plt.hist(df)\n"
   ]
  },
  {
   "cell_type": "code",
   "execution_count": 54,
   "id": "b2098dd1-8b4f-492c-a83c-625cc3af3ea8",
   "metadata": {},
   "outputs": [
    {
     "data": {
      "text/plain": [
       "([<matplotlib.patches.Wedge at 0x21f1afe6150>,\n",
       "  <matplotlib.patches.Wedge at 0x21f1b1fde50>,\n",
       "  <matplotlib.patches.Wedge at 0x21f1b2c4590>,\n",
       "  <matplotlib.patches.Wedge at 0x21f1b2c5d10>,\n",
       "  <matplotlib.patches.Wedge at 0x21f1b2c6d50>],\n",
       " [Text(0.5699287641595657, 0.9408406899063997, 'potato'),\n",
       "  Text(-0.833903688421787, 0.7173594903788055, 'tomato'),\n",
       "  Text(-1.0950690051832068, 0.1040378483392548, 'chilly'),\n",
       "  Text(-0.7239194604114272, -0.8282153191275976, 'egg'),\n",
       "  Text(0.7747415277012829, -0.7808812747499343, 'onion')])"
      ]
     },
     "execution_count": 54,
     "metadata": {},
     "output_type": "execute_result"
    },
    {
     "data": {
      "image/png": "[encoded data removed]",
      "text/plain": [
       "<Figure size 640x480 with 1 Axes>"
      ]
     },
     "metadata": {},
     "output_type": "display_data"
    }
   ],
   "source": [
    "plt.pie(price , labels = name)"
   ]
  },
  {
   "cell_type": "code",
   "execution_count": 118,
   "id": "724ffe63-5d9f-40e9-af9c-b114edb838d0",
   "metadata": {},
   "outputs": [
    {
     "data": {
      "text/plain": [
       "array([[9, 8, 7],\n",
       "       [6, 1, 4],\n",
       "       [3, 2, 1]])"
      ]
     },
     "execution_count": 118,
     "metadata": {},
     "output_type": "execute_result"
    }
   ],
   "source": [
    "import numpy as np\n",
    "a = np.array([1,5,6,4,5,4])\n",
    "b = np.arange(1,10)\n",
    "c = np.square(a)\n",
    "d = np.log2(b)\n",
    "np.size(a)\n",
    "k = a.reshape(2,3)\n",
    "f  = np.array([[1,2,3],[4,1,6],[7,8,9]])\n",
    "j  = np.array([[1,8,3],[4,8,6],[7,8,0]])\n",
    "f[1,0:2]\n",
    "df = np.array([1,'hi',0.2],dtype = 'object')\n",
    "z = np.zeros(5)\n",
    "o = np.ones(8)\n",
    "p = np.full(8,6)\n",
    "l = np.full((4,2),6)\n",
    "u = np.arange(1,11,2)\n",
    "s = np.linspace(1,10,30)\n",
    "r = np.linspace(1,10,30, endpoint = 8)\n",
    "a = np.array([1,2,5,6,5,4,7,8,9])\n",
    "add = a+b\n",
    "add = f+j\n",
    "f*2\n",
    "np.sort(a)\n",
    "np.sort(f,axis = 0)#col\n",
    "np.sort(f,axis = 1)#row\n",
    "g = np.arange(1,25).reshape(2,3,4)\n",
    "g.shape\n",
    "g[0,2,2]\n",
    "# for i in np.nditer(g):\n",
    "    # print(i)\n",
    "y = np.array([[5,2],[3,4]])\n",
    "np.max(y,axis = 1)\n",
    "np.linalg.inv(j)\n",
    "np.linalg.det(j)\n",
    "np.linalg.eig(j)\n",
    "q = f@j\n",
    "q.T #transpose\n",
    "np.random.rand(5)\n",
    "np.random.randint(1,10,4)\n",
    "np.unique(f)\n",
    "i,t = np.unique(f , return_counts = True)\n",
    "np.flip(f)\n",
    "# np.save(\"filename\" , a)\n",
    "# np.load(\"filename\" , a)\n",
    "# np.savetext\n",
    "# np.loadtxt\n"
   ]
  },
  {
   "cell_type": "code",
   "execution_count": null,
   "id": "93a7c703-4765-424a-9248-b3dfd83cd9b7",
   "metadata": {},
   "outputs": [],
   "source": [
    "#find difference between np.reshpae , np.flatten , np.ravel "
   ]
  },
  {
   "cell_type": "code",
   "execution_count": null,
   "id": "03479ee9-19c5-4a13-b76c-dc3671134066",
   "metadata": {},
   "outputs": [],
   "source": []
  }
 ],
 "metadata": {
  "kernelspec": {
   "display_name": "Python 3 (ipykernel)",
   "language": "python",
   "name": "python3"
  },
  "language_info": {
   "codemirror_mode": {
    "name": "ipython",
    "version": 3
   },
   "file_extension": ".py",
   "mimetype": "text/x-python",
   "name": "python",
   "nbconvert_exporter": "python",
   "pygments_lexer": "ipython3",
   "version": "3.12.6"
  }
 },
 "nbformat": 4,
 "nbformat_minor": 5
}
