{
 "cells": [
  {
   "cell_type": "code",
   "execution_count": 1,
   "id": "13926346-2d25-45f8-be38-549431e790da",
   "metadata": {},
   "outputs": [],
   "source": [
    "import numpy as np\n",
    "import pandas as pd\n",
    "import matplotlib.pyplot as plt"
   ]
  },
  {
   "cell_type": "code",
   "execution_count": 2,
   "id": "cf31a62c-a40f-41a4-a800-f8b0663c6e96",
   "metadata": {},
   "outputs": [],
   "source": [
    "try:\n",
    "    df = pd.read_csv(\"AQI_Data.csv\")\n",
    "except FileNotFoundError:\n",
    "       print(\"not found\")"
   ]
  },
  {
   "cell_type": "code",
   "execution_count": 3,
   "id": "a45ae929-f31e-4434-bcd2-65f08e4449cf",
   "metadata": {},
   "outputs": [
    {
     "name": "stdout",
     "output_type": "stream",
     "text": [
      "displaying first 8 rows\n"
     ]
    },
    {
     "data": {
      "text/html": [
       "<div>\n",
       "<style scoped>\n",
       "    .dataframe tbody tr th:only-of-type {\n",
       "        vertical-align: middle;\n",
       "    }\n",
       "\n",
       "    .dataframe tbody tr th {\n",
       "        vertical-align: top;\n",
       "    }\n",
       "\n",
       "    .dataframe thead th {\n",
       "        text-align: right;\n",
       "    }\n",
       "</style>\n",
       "<table border=\"1\" class=\"dataframe\">\n",
       "  <thead>\n",
       "    <tr style=\"text-align: right;\">\n",
       "      <th></th>\n",
       "      <th>City</th>\n",
       "      <th>Date</th>\n",
       "      <th>AQI</th>\n",
       "      <th>PM2.5</th>\n",
       "      <th>PM10</th>\n",
       "      <th>NO2</th>\n",
       "      <th>CO</th>\n",
       "      <th>O3</th>\n",
       "      <th>SO2</th>\n",
       "    </tr>\n",
       "  </thead>\n",
       "  <tbody>\n",
       "    <tr>\n",
       "      <th>0</th>\n",
       "      <td>Delhi</td>\n",
       "      <td>2024-01-01</td>\n",
       "      <td>152</td>\n",
       "      <td>153</td>\n",
       "      <td>151</td>\n",
       "      <td>26.509131</td>\n",
       "      <td>1.581413</td>\n",
       "      <td>123.401530</td>\n",
       "      <td>25.062474</td>\n",
       "    </tr>\n",
       "    <tr>\n",
       "      <th>1</th>\n",
       "      <td>Delhi</td>\n",
       "      <td>2024-01-02</td>\n",
       "      <td>264</td>\n",
       "      <td>288</td>\n",
       "      <td>268</td>\n",
       "      <td>87.955853</td>\n",
       "      <td>1.242119</td>\n",
       "      <td>144.533790</td>\n",
       "      <td>5.926302</td>\n",
       "    </tr>\n",
       "    <tr>\n",
       "      <th>2</th>\n",
       "      <td>Delhi</td>\n",
       "      <td>2024-01-03</td>\n",
       "      <td>307</td>\n",
       "      <td>344</td>\n",
       "      <td>357</td>\n",
       "      <td>94.469744</td>\n",
       "      <td>0.101480</td>\n",
       "      <td>198.520196</td>\n",
       "      <td>32.786668</td>\n",
       "    </tr>\n",
       "    <tr>\n",
       "      <th>3</th>\n",
       "      <td>Delhi</td>\n",
       "      <td>2024-01-04</td>\n",
       "      <td>363</td>\n",
       "      <td>334</td>\n",
       "      <td>347</td>\n",
       "      <td>12.075618</td>\n",
       "      <td>1.097072</td>\n",
       "      <td>85.973585</td>\n",
       "      <td>7.099955</td>\n",
       "    </tr>\n",
       "    <tr>\n",
       "      <th>4</th>\n",
       "      <td>Delhi</td>\n",
       "      <td>2024-01-05</td>\n",
       "      <td>237</td>\n",
       "      <td>266</td>\n",
       "      <td>250</td>\n",
       "      <td>51.046299</td>\n",
       "      <td>1.591834</td>\n",
       "      <td>47.938019</td>\n",
       "      <td>28.140550</td>\n",
       "    </tr>\n",
       "    <tr>\n",
       "      <th>5</th>\n",
       "      <td>Delhi</td>\n",
       "      <td>2024-01-06</td>\n",
       "      <td>369</td>\n",
       "      <td>321</td>\n",
       "      <td>327</td>\n",
       "      <td>64.679037</td>\n",
       "      <td>0.423996</td>\n",
       "      <td>22.359803</td>\n",
       "      <td>47.699849</td>\n",
       "    </tr>\n",
       "    <tr>\n",
       "      <th>6</th>\n",
       "      <td>Delhi</td>\n",
       "      <td>2024-01-07</td>\n",
       "      <td>365</td>\n",
       "      <td>328</td>\n",
       "      <td>347</td>\n",
       "      <td>44.687485</td>\n",
       "      <td>0.130336</td>\n",
       "      <td>53.869827</td>\n",
       "      <td>15.846146</td>\n",
       "    </tr>\n",
       "    <tr>\n",
       "      <th>7</th>\n",
       "      <td>Delhi</td>\n",
       "      <td>2024-01-08</td>\n",
       "      <td>493</td>\n",
       "      <td>513</td>\n",
       "      <td>526</td>\n",
       "      <td>54.565922</td>\n",
       "      <td>0.165338</td>\n",
       "      <td>182.770876</td>\n",
       "      <td>16.645099</td>\n",
       "    </tr>\n",
       "  </tbody>\n",
       "</table>\n",
       "</div>"
      ],
      "text/plain": [
       "    City        Date  AQI  PM2.5  PM10        NO2        CO          O3  \\\n",
       "0  Delhi  2024-01-01  152    153   151  26.509131  1.581413  123.401530   \n",
       "1  Delhi  2024-01-02  264    288   268  87.955853  1.242119  144.533790   \n",
       "2  Delhi  2024-01-03  307    344   357  94.469744  0.101480  198.520196   \n",
       "3  Delhi  2024-01-04  363    334   347  12.075618  1.097072   85.973585   \n",
       "4  Delhi  2024-01-05  237    266   250  51.046299  1.591834   47.938019   \n",
       "5  Delhi  2024-01-06  369    321   327  64.679037  0.423996   22.359803   \n",
       "6  Delhi  2024-01-07  365    328   347  44.687485  0.130336   53.869827   \n",
       "7  Delhi  2024-01-08  493    513   526  54.565922  0.165338  182.770876   \n",
       "\n",
       "         SO2  \n",
       "0  25.062474  \n",
       "1   5.926302  \n",
       "2  32.786668  \n",
       "3   7.099955  \n",
       "4  28.140550  \n",
       "5  47.699849  \n",
       "6  15.846146  \n",
       "7  16.645099  "
      ]
     },
     "execution_count": 3,
     "metadata": {},
     "output_type": "execute_result"
    }
   ],
   "source": [
    "#Q1\n",
    "#a) display first 8 rows\n",
    "print(\"displaying first 8 rows\")\n",
    "df.head(8)"
   ]
  },
  {
   "cell_type": "code",
   "execution_count": 4,
   "id": "8a0accc2-e8e1-4d33-84f5-896a1fe2ec82",
   "metadata": {},
   "outputs": [
    {
     "name": "stdout",
     "output_type": "stream",
     "text": [
      "displaying last 5 rows\n"
     ]
    },
    {
     "data": {
      "text/html": [
       "<div>\n",
       "<style scoped>\n",
       "    .dataframe tbody tr th:only-of-type {\n",
       "        vertical-align: middle;\n",
       "    }\n",
       "\n",
       "    .dataframe tbody tr th {\n",
       "        vertical-align: top;\n",
       "    }\n",
       "\n",
       "    .dataframe thead th {\n",
       "        text-align: right;\n",
       "    }\n",
       "</style>\n",
       "<table border=\"1\" class=\"dataframe\">\n",
       "  <thead>\n",
       "    <tr style=\"text-align: right;\">\n",
       "      <th></th>\n",
       "      <th>City</th>\n",
       "      <th>Date</th>\n",
       "      <th>AQI</th>\n",
       "      <th>PM2.5</th>\n",
       "      <th>PM10</th>\n",
       "      <th>NO2</th>\n",
       "      <th>CO</th>\n",
       "      <th>O3</th>\n",
       "      <th>SO2</th>\n",
       "    </tr>\n",
       "  </thead>\n",
       "  <tbody>\n",
       "    <tr>\n",
       "      <th>2557</th>\n",
       "      <td>Pune</td>\n",
       "      <td>2024-12-27</td>\n",
       "      <td>419</td>\n",
       "      <td>448</td>\n",
       "      <td>462</td>\n",
       "      <td>26.701714</td>\n",
       "      <td>1.553582</td>\n",
       "      <td>86.973954</td>\n",
       "      <td>44.263423</td>\n",
       "    </tr>\n",
       "    <tr>\n",
       "      <th>2558</th>\n",
       "      <td>Pune</td>\n",
       "      <td>2024-12-28</td>\n",
       "      <td>252</td>\n",
       "      <td>202</td>\n",
       "      <td>182</td>\n",
       "      <td>19.920962</td>\n",
       "      <td>1.599821</td>\n",
       "      <td>41.939484</td>\n",
       "      <td>20.545087</td>\n",
       "    </tr>\n",
       "    <tr>\n",
       "      <th>2559</th>\n",
       "      <td>Pune</td>\n",
       "      <td>2024-12-29</td>\n",
       "      <td>365</td>\n",
       "      <td>414</td>\n",
       "      <td>410</td>\n",
       "      <td>80.815702</td>\n",
       "      <td>1.919950</td>\n",
       "      <td>39.982167</td>\n",
       "      <td>22.646297</td>\n",
       "    </tr>\n",
       "    <tr>\n",
       "      <th>2560</th>\n",
       "      <td>Pune</td>\n",
       "      <td>2024-12-30</td>\n",
       "      <td>253</td>\n",
       "      <td>269</td>\n",
       "      <td>285</td>\n",
       "      <td>66.231614</td>\n",
       "      <td>0.611800</td>\n",
       "      <td>63.966705</td>\n",
       "      <td>10.580135</td>\n",
       "    </tr>\n",
       "    <tr>\n",
       "      <th>2561</th>\n",
       "      <td>Pune</td>\n",
       "      <td>2024-12-31</td>\n",
       "      <td>95</td>\n",
       "      <td>140</td>\n",
       "      <td>117</td>\n",
       "      <td>99.505459</td>\n",
       "      <td>0.122817</td>\n",
       "      <td>112.774765</td>\n",
       "      <td>30.814997</td>\n",
       "    </tr>\n",
       "  </tbody>\n",
       "</table>\n",
       "</div>"
      ],
      "text/plain": [
       "      City        Date  AQI  PM2.5  PM10        NO2        CO          O3  \\\n",
       "2557  Pune  2024-12-27  419    448   462  26.701714  1.553582   86.973954   \n",
       "2558  Pune  2024-12-28  252    202   182  19.920962  1.599821   41.939484   \n",
       "2559  Pune  2024-12-29  365    414   410  80.815702  1.919950   39.982167   \n",
       "2560  Pune  2024-12-30  253    269   285  66.231614  0.611800   63.966705   \n",
       "2561  Pune  2024-12-31   95    140   117  99.505459  0.122817  112.774765   \n",
       "\n",
       "            SO2  \n",
       "2557  44.263423  \n",
       "2558  20.545087  \n",
       "2559  22.646297  \n",
       "2560  10.580135  \n",
       "2561  30.814997  "
      ]
     },
     "execution_count": 4,
     "metadata": {},
     "output_type": "execute_result"
    }
   ],
   "source": [
    "# b)display last 5 rows\n",
    "print(\"displaying last 5 rows\")\n",
    "df.tail(5)"
   ]
  },
  {
   "cell_type": "code",
   "execution_count": 5,
   "id": "e1176a96-89c5-46d0-8ae0-3a58dd0bbce7",
   "metadata": {},
   "outputs": [
    {
     "name": "stdout",
     "output_type": "stream",
     "text": [
      "dtypes are\n",
      "City      object\n",
      "Date      object\n",
      "AQI        int64\n",
      "PM2.5      int64\n",
      "PM10       int64\n",
      "NO2      float64\n",
      "CO       float64\n",
      "O3       float64\n",
      "SO2      float64\n",
      "dtype: object\n",
      "number of non-null values in each columns\n"
     ]
    },
    {
     "data": {
      "text/plain": [
       "City     2562\n",
       "Date     2562\n",
       "AQI      2562\n",
       "PM2.5    2562\n",
       "PM10     2562\n",
       "NO2      2562\n",
       "CO       2562\n",
       "O3       2562\n",
       "SO2      2562\n",
       "dtype: int64"
      ]
     },
     "execution_count": 5,
     "metadata": {},
     "output_type": "execute_result"
    }
   ],
   "source": [
    "# c) show the dtype and number of non-null values of each columns\n",
    "print(\"dtypes are\")\n",
    "print(df.dtypes)\n",
    "\n",
    "print(\"number of non-null values in each columns\")\n",
    "df.notnull().sum()"
   ]
  },
  {
   "cell_type": "code",
   "execution_count": 6,
   "id": "c2de70fa-4770-4d66-834c-15e796f0a029",
   "metadata": {},
   "outputs": [
    {
     "name": "stdout",
     "output_type": "stream",
     "text": [
      "             mean AQI  Max PM2.5  Min PM10\n",
      "City                                      \n",
      "Bangalore  279.543716      527.0      -1.0\n",
      "Chennai    274.314208      530.0     -26.0\n",
      "Delhi      279.153005      539.0     -17.0\n",
      "Hyderabad  280.355191      543.0      15.0\n",
      "Kolkata    265.901639      535.0      -8.0\n",
      "Mumbai     287.797814      519.0      20.0\n",
      "Pune       276.379781      532.0       6.0\n"
     ]
    },
    {
     "name": "stderr",
     "output_type": "stream",
     "text": [
      "C:\\Users\\ankur\\AppData\\Local\\Temp\\ipykernel_31832\\488955749.py:10: DeprecationWarning: DataFrameGroupBy.apply operated on the grouping columns. This behavior is deprecated, and in a future version of pandas the grouping columns will be excluded from the operation. Either pass `include_groups=False` to exclude the groupings or explicitly select the grouping columns after groupby to silence this warning.\n",
      "  result = df.groupby('City').apply(cal)\n"
     ]
    }
   ],
   "source": [
    "#d) mean aqi , maxpm2.5 , min pm10\n",
    "\n",
    "def cal(group):\n",
    "    return pd.Series({\n",
    "        'mean AQI': np.mean(group['AQI']),\n",
    "        'Max PM2.5': np.max(group['PM2.5']),\n",
    "        'Min PM10': np.min(group['PM10'])\n",
    "    })\n",
    "\n",
    "result = df.groupby('City').apply(cal)\n",
    "\n",
    "print(result)\n"
   ]
  },
  {
   "cell_type": "code",
   "execution_count": 7,
   "id": "4f910d00-6fb2-42e1-91ea-fa656b113e57",
   "metadata": {},
   "outputs": [
    {
     "name": "stdout",
     "output_type": "stream",
     "text": [
      "counts \n"
     ]
    },
    {
     "data": {
      "text/plain": [
       "{'Delhi': 366,\n",
       " 'Mumbai': 366,\n",
       " 'Kolkata': 366,\n",
       " 'Chennai': 366,\n",
       " 'Bangalore': 366,\n",
       " 'Hyderabad': 366,\n",
       " 'Pune': 366}"
      ]
     },
     "execution_count": 7,
     "metadata": {},
     "output_type": "execute_result"
    }
   ],
   "source": [
    "#1 a)\n",
    "counts = df['City'].value_counts().to_dict()\n",
    "print(\"counts \")\n",
    "counts"
   ]
  },
  {
   "cell_type": "code",
   "execution_count": 8,
   "id": "8d5b55b5-78f7-44d0-aa9e-a1ed5bcae4f9",
   "metadata": {},
   "outputs": [
    {
     "name": "stdout",
     "output_type": "stream",
     "text": [
      "total sum\n",
      "       City  Total Pollutant Concentration\n",
      "0     Delhi                     480.554548\n",
      "1     Delhi                     795.658064\n",
      "2     Delhi                    1026.878088\n",
      "3     Delhi                     787.246230\n",
      "4     Delhi                     644.716701\n",
      "...     ...                            ...\n",
      "2557   Pune                    1069.492674\n",
      "2558   Pune                     468.005355\n",
      "2559   Pune                     969.364116\n",
      "2560   Pune                     695.390254\n",
      "2561   Pune                     500.218038\n",
      "\n",
      "[2562 rows x 2 columns]\n"
     ]
    }
   ],
   "source": [
    "#b)\n",
    "print(\"total sum\")\n",
    "df['Total Pollutant Concentration'] = df[['PM2.5', 'PM10', 'NO2', 'CO', 'O3', 'SO2']].sum(axis=1)\n",
    "print(df[['City',  'Total Pollutant Concentration']])"
   ]
  },
  {
   "cell_type": "code",
   "execution_count": 9,
   "id": "01f223ca-f0c0-41b4-8e02-281a33d87ea4",
   "metadata": {},
   "outputs": [],
   "source": [
    "df.to_csv('pollutant.txt', sep='\\t', index=False)"
   ]
  }
 ],
 "metadata": {
  "kernelspec": {
   "display_name": "Python 3 (ipykernel)",
   "language": "python",
   "name": "python3"
  },
  "language_info": {
   "codemirror_mode": {
    "name": "ipython",
    "version": 3
   },
   "file_extension": ".py",
   "mimetype": "text/x-python",
   "name": "python",
   "nbconvert_exporter": "python",
   "pygments_lexer": "ipython3",
   "version": "3.12.6"
  }
 },
 "nbformat": 4,
 "nbformat_minor": 5
}
