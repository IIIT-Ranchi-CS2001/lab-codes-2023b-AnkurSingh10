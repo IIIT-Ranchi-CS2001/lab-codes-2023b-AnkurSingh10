{
 "cells": [
  {
   "cell_type": "code",
   "execution_count": null,
   "id": "0947dbab-5ad5-40e4-b810-531271270b98",
   "metadata": {},
   "outputs": [],
   "source": [
    "s = \"Python Programming\"\n",
    "l=*s # shows error -> can't use starred expression here"
   ]
  },
  {
   "cell_type": "code",
   "execution_count": 8,
   "id": "2c78bb2a-29c9-42fb-93d1-7784dfc7c016",
   "metadata": {},
   "outputs": [
    {
     "name": "stdout",
     "output_type": "stream",
     "text": [
      "40 30 20 10\n"
     ]
    }
   ],
   "source": [
    "a,b,c,d = 10 ,20,30,40\n",
    "a,b,c,d = d,c,b,a\n",
    "print(a,b,c,d)"
   ]
  },
  {
   "cell_type": "code",
   "execution_count": 10,
   "id": "62a3f36d-27d0-49fd-a77b-481b26a98a62",
   "metadata": {},
   "outputs": [
    {
     "data": {
      "text/plain": [
       "53"
      ]
     },
     "execution_count": 10,
     "metadata": {},
     "output_type": "execute_result"
    }
   ],
   "source": [
    "n = 0b_0011_0101\n",
    "n #when you write n = 0b_0011_0101, Python treats it as the binary value 00110101, which is equivalent to the decimal value 53."
   ]
  },
  {
   "cell_type": "code",
   "execution_count": null,
   "id": "c4bc15a1-e04d-4758-91bb-a5127eca2117",
   "metadata": {},
   "outputs": [],
   "source": [
    "set1 = {[n,n+1] for n in range(1,10)} #shows error as list is unhashable"
   ]
  },
  {
   "cell_type": "code",
   "execution_count": null,
   "id": "0f23c2e2-fb73-45f0-a2cb-90122f774664",
   "metadata": {},
   "outputs": [],
   "source": [
    "a = 5\n",
    "if(a>0):\n",
    "    print(a)\n",
    "else:    #incomplete so gives error"
   ]
  },
  {
   "cell_type": "code",
   "execution_count": null,
   "id": "f9495c8b-40f7-48a9-9618-57c832ba4eec",
   "metadata": {},
   "outputs": [],
   "source": [
    "\"\"this is a valid comment\"\" #error"
   ]
  },
  {
   "cell_type": "code",
   "execution_count": 20,
   "id": "0f8b2694-5957-4b8a-843d-da1a708c095e",
   "metadata": {},
   "outputs": [
    {
     "name": "stdout",
     "output_type": "stream",
     "text": [
      "{'Name': 'Sachin', 'JerseyNo': 10, 'Runs': 34347}\n",
      "{'Name': 'Sachin', 'JerseyNo': 10}\n",
      "{'Name': 'Sachin'}\n"
     ]
    }
   ],
   "source": [
    "d1 = dict(Name = \"Sachin\" , JerseyNo = 10 , Runs = 34347)\n",
    "for  k in range(len(d1)):\n",
    "    print(d1)\n",
    "    d1.popitem()"
   ]
  },
  {
   "cell_type": "code",
   "execution_count": 25,
   "id": "e76e909e-e280-4067-90b8-9111853f9d15",
   "metadata": {},
   "outputs": [
    {
     "name": "stdout",
     "output_type": "stream",
     "text": [
      "('m', 'a', 'rry had a little lamb')\n"
     ]
    },
    {
     "data": {
      "text/plain": [
       "['m', 'rry h', 'd ', ' little l', 'mb']"
      ]
     },
     "execution_count": 25,
     "metadata": {},
     "output_type": "execute_result"
    }
   ],
   "source": [
    "s = \"marry had a little lamb\"\n",
    "p1 = s.partition('a')\n",
    "print(p1)\n",
    "s1 = s.split('a')\n",
    "s1"
   ]
  },
  {
   "cell_type": "code",
   "execution_count": 28,
   "id": "0ab57439-47b0-4589-ba5a-738770819147",
   "metadata": {},
   "outputs": [
    {
     "name": "stdout",
     "output_type": "stream",
     "text": [
      "X-X-X-X-X-\n",
      "X-X-X-X-\n",
      "X-X-X-\n",
      "X-X-\n",
      "X-\n"
     ]
    }
   ],
   "source": [
    "for j in range(-5,0):\n",
    "    for k in range(j,0):\n",
    "        print(\"X\", end = \"-\")\n",
    "    print()"
   ]
  },
  {
   "cell_type": "code",
   "execution_count": 30,
   "id": "8801b0bb-9b08-4f6f-9c5c-8aadca4ff509",
   "metadata": {},
   "outputs": [
    {
     "name": "stdout",
     "output_type": "stream",
     "text": [
      "['ax', 'ay', 'az', 'bx', 'by', 'bz', 'cx', 'cy', 'cz']\n"
     ]
    },
    {
     "data": {
      "text/plain": [
       "[['ax', 'bx', 'cx'], ['ay', 'by', 'cy'], ['az', 'bz', 'cz']]"
      ]
     },
     "execution_count": 30,
     "metadata": {},
     "output_type": "execute_result"
    }
   ],
   "source": [
    "l1 = [i+j for i in \"abc\" for j in \"xyz\"]\n",
    "print(l1)\n",
    "l2 = [[i+j for i in \"abc\"] for j in \"xyz\"]\n",
    "l2"
   ]
  },
  {
   "cell_type": "code",
   "execution_count": null,
   "id": "3bc7b783-d706-4db9-8d28-18178f1af9e9",
   "metadata": {},
   "outputs": [],
   "source": [
    "def demo_fun(a,s):\n",
    "    print(s.upper())\n",
    "    p = a**2\n",
    "    return p\n",
    "demo_fun(\"kumar\" , 10)   #eror  "
   ]
  },
  {
   "cell_type": "code",
   "execution_count": null,
   "id": "9efeef90-2db4-4d12-a129-21032e5a323c",
   "metadata": {},
   "outputs": [
    {
     "name": "stdin",
     "output_type": "stream",
     "text": [
      "Enter password:  4\n"
     ]
    },
    {
     "name": "stdout",
     "output_type": "stream",
     "text": [
      "3 tries left\n"
     ]
    },
    {
     "name": "stdin",
     "output_type": "stream",
     "text": [
      "Enter password:  5\n"
     ]
    },
    {
     "name": "stdout",
     "output_type": "stream",
     "text": [
      "2 tries left\n"
     ]
    },
    {
     "name": "stdin",
     "output_type": "stream",
     "text": [
      "Enter password:  5\n"
     ]
    },
    {
     "name": "stdout",
     "output_type": "stream",
     "text": [
      "1 tries left\n"
     ]
    }
   ],
   "source": [
    "k = 0\n",
    "while(k<4):\n",
    "    l = 1234\n",
    "    p = int(input(\"Enter password: \"))  \n",
    "\n",
    "    if k < 4:\n",
    "        if p == l:\n",
    "            print(\"Welcome\")\n",
    "            break\n",
    "        else:\n",
    "            print(f\"{4 - 1 - k} tries left\")\n",
    "    else:\n",
    "        print(\"Access denied\")\n",
    "    k+=1    \n",
    "\n",
    "if k > 3:\n",
    "    print(\"Access denied\")\n"
   ]
  },
  {
   "cell_type": "code",
   "execution_count": null,
   "id": "eb563d74-a631-407d-b4b0-53b501f04903",
   "metadata": {},
   "outputs": [],
   "source": []
  }
 ],
 "metadata": {
  "kernelspec": {
   "display_name": "Python 3 (ipykernel)",
   "language": "python",
   "name": "python3"
  },
  "language_info": {
   "codemirror_mode": {
    "name": "ipython",
    "version": 3
   },
   "file_extension": ".py",
   "mimetype": "text/x-python",
   "name": "python",
   "nbconvert_exporter": "python",
   "pygments_lexer": "ipython3",
   "version": "3.11.4"
  }
 },
 "nbformat": 4,
 "nbformat_minor": 5
}
