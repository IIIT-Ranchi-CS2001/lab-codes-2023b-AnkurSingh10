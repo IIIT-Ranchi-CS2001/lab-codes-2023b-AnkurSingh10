{
 "cells": [
  {
   "cell_type": "code",
   "execution_count": null,
   "id": "0947dbab-5ad5-40e4-b810-531271270b98",
   "metadata": {},
   "outputs": [],
   "source": [
    "s = \"Python Programming\"\n",
    "l=*s # shows error -> can't use starred expression here"
   ]
  },
  {
   "cell_type": "code",
   "execution_count": 8,
   "id": "2c78bb2a-29c9-42fb-93d1-7784dfc7c016",
   "metadata": {},
   "outputs": [
    {
     "name": "stdout",
     "output_type": "stream",
     "text": [
      "40 30 20 10\n"
     ]
    }
   ],
   "source": [
    "a,b,c,d = 10 ,20,30,40\n",
    "a,b,c,d = d,c,b,a\n",
    "print(a,b,c,d)"
   ]
  },
  {
   "cell_type": "code",
   "execution_count": 10,
   "id": "62a3f36d-27d0-49fd-a77b-481b26a98a62",
   "metadata": {},
   "outputs": [
    {
     "data": {
      "text/plain": [
       "53"
      ]
     },
     "execution_count": 10,
     "metadata": {},
     "output_type": "execute_result"
    }
   ],
   "source": [
    "n = 0b_0011_0101\n",
    "n #when you write n = 0b_0011_0101, Python treats it as the binary value 00110101, which is equivalent to the decimal value 53."
   ]
  },
  {
   "cell_type": "code",
   "execution_count": null,
   "id": "c4bc15a1-e04d-4758-91bb-a5127eca2117",
   "metadata": {},
   "outputs": [],
   "source": [
    "set1 = {[n,n+1] for n in range(1,10)} #shows error as list is unhashable"
   ]
  },
  {
   "cell_type": "code",
   "execution_count": null,
   "id": "0f23c2e2-fb73-45f0-a2cb-90122f774664",
   "metadata": {},
   "outputs": [],
   "source": [
    "a = 5\n",
    "if(a>0):\n",
    "    print(a)\n",
    "else:    #incomplete so gives error"
   ]
  },
  {
   "cell_type": "code",
   "execution_count": null,
   "id": "f9495c8b-40f7-48a9-9618-57c832ba4eec",
   "metadata": {},
   "outputs": [],
   "source": [
    "\"\"this is a valid comment\"\" #error"
   ]
  },
  {
   "cell_type": "code",
   "execution_count": 20,
   "id": "0f8b2694-5957-4b8a-843d-da1a708c095e",
   "metadata": {},
   "outputs": [
    {
     "name": "stdout",
     "output_type": "stream",
     "text": [
      "{'Name': 'Sachin', 'JerseyNo': 10, 'Runs': 34347}\n",
      "{'Name': 'Sachin', 'JerseyNo': 10}\n",
      "{'Name': 'Sachin'}\n"
     ]
    }
   ],
   "source": [
    "d1 = dict(Name = \"Sachin\" , JerseyNo = 10 , Runs = 34347)\n",
    "for  k in range(len(d1)):\n",
    "    print(d1)\n",
    "    d1.popitem()"
   ]
  },
  {
   "cell_type": "code",
   "execution_count": 25,
   "id": "e76e909e-e280-4067-90b8-9111853f9d15",
   "metadata": {},
   "outputs": [
    {
     "name": "stdout",
     "output_type": "stream",
     "text": [
      "('m', 'a', 'rry had a little lamb')\n"
     ]
    },
    {
     "data": {
      "text/plain": [
       "['m', 'rry h', 'd ', ' little l', 'mb']"
      ]
     },
     "execution_count": 25,
     "metadata": {},
     "output_type": "execute_result"
    }
   ],
   "source": [
    "s = \"marry had a little lamb\"\n",
    "p1 = s.partition('a')\n",
    "print(p1)\n",
    "s1 = s.split('a')\n",
    "s1"
   ]
  },
  {
   "cell_type": "code",
   "execution_count": 28,
   "id": "0ab57439-47b0-4589-ba5a-738770819147",
   "metadata": {},
   "outputs": [
    {
     "name": "stdout",
     "output_type": "stream",
     "text": [
      "X-X-X-X-X-\n",
      "X-X-X-X-\n",
      "X-X-X-\n",
      "X-X-\n",
      "X-\n"
     ]
    }
   ],
   "source": [
    "for j in range(-5,0):\n",
    "    for k in range(j,0):\n",
    "        print(\"X\", end = \"-\")\n",
    "    print()"
   ]
  },
  {
   "cell_type": "code",
   "execution_count": 30,
   "id": "8801b0bb-9b08-4f6f-9c5c-8aadca4ff509",
   "metadata": {},
   "outputs": [
    {
     "name": "stdout",
     "output_type": "stream",
     "text": [
      "['ax', 'ay', 'az', 'bx', 'by', 'bz', 'cx', 'cy', 'cz']\n"
     ]
    },
    {
     "data": {
      "text/plain": [
       "[['ax', 'bx', 'cx'], ['ay', 'by', 'cy'], ['az', 'bz', 'cz']]"
      ]
     },
     "execution_count": 30,
     "metadata": {},
     "output_type": "execute_result"
    }
   ],
   "source": [
    "l1 = [i+j for i in \"abc\" for j in \"xyz\"]\n",
    "print(l1)\n",
    "l2 = [[i+j for i in \"abc\"] for j in \"xyz\"]\n",
    "l2"
   ]
  },
  {
   "cell_type": "code",
   "execution_count": null,
   "id": "3bc7b783-d706-4db9-8d28-18178f1af9e9",
   "metadata": {},
   "outputs": [],
   "source": [
    "def demo_fun(a,s):\n",
    "    print(s.upper())\n",
    "    p = a**2\n",
    "    return p\n",
    "demo_fun(\"kumar\" , 10)   #eror  "
   ]
  },
  {
   "cell_type": "code",
   "execution_count": null,
   "id": "9efeef90-2db4-4d12-a129-21032e5a323c",
   "metadata": {},
   "outputs": [
    {
     "name": "stdin",
     "output_type": "stream",
     "text": [
      "Enter password:  4\n"
     ]
    },
    {
     "name": "stdout",
     "output_type": "stream",
     "text": [
      "3 tries left\n"
     ]
    },
    {
     "name": "stdin",
     "output_type": "stream",
     "text": [
      "Enter password:  5\n"
     ]
    },
    {
     "name": "stdout",
     "output_type": "stream",
     "text": [
      "2 tries left\n"
     ]
    },
    {
     "name": "stdin",
     "output_type": "stream",
     "text": [
      "Enter password:  5\n"
     ]
    },
    {
     "name": "stdout",
     "output_type": "stream",
     "text": [
      "1 tries left\n"
     ]
    }
   ],
   "source": [
    "k = 0\n",
    "while(k<4):\n",
    "    l = 1234\n",
    "    p = int(input(\"Enter password: \"))  \n",
    "\n",
    "    if k < 4:\n",
    "        if p == l:\n",
    "            print(\"Welcome\")\n",
    "            break\n",
    "        else:\n",
    "            print(f\"{4 - 1 - k} tries left\")\n",
    "    else:\n",
    "        print(\"Access denied\")\n",
    "    k+=1    \n",
    "\n",
    "if k > 3:\n",
    "    print(\"Access denied\")\n"
   ]
  },
  {
   "cell_type": "code",
   "execution_count": 7,
   "id": "eb563d74-a631-407d-b4b0-53b501f04903",
   "metadata": {},
   "outputs": [
    {
     "data": {
      "text/plain": [
       "''"
      ]
     },
     "execution_count": 7,
     "metadata": {},
     "output_type": "execute_result"
    }
   ],
   "source": [
    "a = \"RESPONSIBILITY\"\n",
    "a[-2:-7]"
   ]
  },
  {
   "cell_type": "code",
   "execution_count": 13,
   "id": "7524c247-f8b9-4075-9b09-f737aa89a869",
   "metadata": {},
   "outputs": [
    {
     "data": {
      "text/plain": [
       "5.0"
      ]
     },
     "execution_count": 13,
     "metadata": {},
     "output_type": "execute_result"
    }
   ],
   "source": [
    "z = complex(4 , 3)\n",
    "abs(z)"
   ]
  },
  {
   "cell_type": "code",
   "execution_count": 32,
   "id": "c403db1f-2231-4769-a053-d96baf4220f9",
   "metadata": {},
   "outputs": [
    {
     "name": "stdout",
     "output_type": "stream",
     "text": [
      "22.01\n"
     ]
    }
   ],
   "source": [
    "s = \"ankur\"\n",
    "len(s)\n",
    "a = 22.0124563\n",
    "print(f\"{a:.2f}\")"
   ]
  },
  {
   "cell_type": "code",
   "execution_count": 34,
   "id": "146b9063-5c88-4184-84b5-b4ed4c17aaa1",
   "metadata": {},
   "outputs": [
    {
     "data": {
      "text/plain": [
       "1.05"
      ]
     },
     "execution_count": 34,
     "metadata": {},
     "output_type": "execute_result"
    }
   ],
   "source": [
    "105e-2"
   ]
  },
  {
   "cell_type": "code",
   "execution_count": 60,
   "id": "b64e7f95-2800-4e47-980a-50af4bf81a12",
   "metadata": {},
   "outputs": [
    {
     "name": "stdout",
     "output_type": "stream",
     "text": [
      "[4, 5, 6]\n",
      "[4, 5, 5] [4, 5, 5]\n",
      "[1, 5, 5] [4, 5, 5]\n"
     ]
    }
   ],
   "source": [
    "l1 = [4,5,6]\n",
    "print(l1)\n",
    "l2 = l1\n",
    "l1[2] = 5\n",
    "print(l1,l2)\n",
    "l3 = l1.copy()\n",
    "l3[0] = 1\n",
    "print(l3,l1)"
   ]
  },
  {
   "cell_type": "code",
   "execution_count": 66,
   "id": "3398c16c-e189-4043-b0ae-f51b24be9044",
   "metadata": {},
   "outputs": [
    {
     "name": "stdout",
     "output_type": "stream",
     "text": [
      "('Mera', ' ', 'IIIT Mahan')\n"
     ]
    },
    {
     "data": {
      "text/plain": [
       "tuple"
      ]
     },
     "execution_count": 66,
     "metadata": {},
     "output_type": "execute_result"
    }
   ],
   "source": [
    "S1 = 'Mera IIIT Mahan'\n",
    "S2 = S1.partition(' ')\n",
    "print(S2)\n",
    "type(S2)"
   ]
  },
  {
   "cell_type": "code",
   "execution_count": 68,
   "id": "cf1507e0-f8d3-4e82-ad34-ee30c4d5fb30",
   "metadata": {},
   "outputs": [
    {
     "data": {
      "text/plain": [
       "[('devansh', 47),\n",
       " ('rahul', 56),\n",
       " ('amrit', 66),\n",
       " ('pankaj', 73),\n",
       " ('abhinav', 84)]"
      ]
     },
     "execution_count": 68,
     "metadata": {},
     "output_type": "execute_result"
    }
   ],
   "source": [
    "students =(\"pankaj\",\"rahul\",\"abhinav\",\"devansh\",\"amrit\")\n",
    "marks = (73,56,84,47,66)\n",
    "\n",
    "comb = tuple(zip(marks, students))\n",
    "nc = sorted(comb)\n",
    "nl = [tuple(reversed(i)) for i in nc]\n",
    "nl"
   ]
  },
  {
   "cell_type": "code",
   "execution_count": 73,
   "id": "19b1b687-b7ba-4b42-87e5-3ed96e60053a",
   "metadata": {},
   "outputs": [
    {
     "name": "stdout",
     "output_type": "stream",
     "text": [
      "20\n",
      "None\n",
      "20\n"
     ]
    }
   ],
   "source": [
    "student = {\n",
    "    \"name\": \"Utkarsh\",\n",
    "    \"age\": 20,\n",
    "    \"department\": \"CS\"\n",
    "}\n"
   ]
  },
  {
   "cell_type": "code",
   "execution_count": 4,
   "id": "a04b6a16-a4f8-47b7-8ba0-3147061763ec",
   "metadata": {},
   "outputs": [
    {
     "name": "stdin",
     "output_type": "stream",
     "text": [
      " 4 5 6 2 3\n"
     ]
    },
    {
     "data": {
      "text/plain": [
       "list"
      ]
     },
     "execution_count": 4,
     "metadata": {},
     "output_type": "execute_result"
    }
   ],
   "source": [
    "lst = [int(x) for x in input().split()]\n",
    "type(lst)"
   ]
  },
  {
   "cell_type": "code",
   "execution_count": 21,
   "id": "922a1f2a-d3a3-4fa9-89aa-4d5f12545ab6",
   "metadata": {},
   "outputs": [
    {
     "name": "stdin",
     "output_type": "stream",
     "text": [
      "  4 65 6 32 2\n"
     ]
    },
    {
     "data": {
      "text/plain": [
       "{2, 4, 6, 32, 65}"
      ]
     },
     "execution_count": 21,
     "metadata": {},
     "output_type": "execute_result"
    }
   ],
   "source": [
    "st = {int(x) for x in input().split()}\n",
    "type(st)\n",
    "st"
   ]
  },
  {
   "cell_type": "code",
   "execution_count": 26,
   "id": "f3555b05-5bf7-4926-96f5-b8c1cea371dc",
   "metadata": {},
   "outputs": [
    {
     "name": "stdin",
     "output_type": "stream",
     "text": [
      " 4 5 6 2 6\n"
     ]
    },
    {
     "name": "stdout",
     "output_type": "stream",
     "text": [
      "<generator object <genexpr> at 0x000002232773AC00>\n"
     ]
    }
   ],
   "source": [
    "tp = (int(x) for x in input().split())\n",
    "print(tp)"
   ]
  },
  {
   "cell_type": "code",
   "execution_count": 14,
   "id": "318b6e4f-cc48-465b-bf75-972d43a093e7",
   "metadata": {},
   "outputs": [
    {
     "name": "stdin",
     "output_type": "stream",
     "text": [
      " 2 4 5 6\n"
     ]
    },
    {
     "data": {
      "text/plain": [
       "{2: 4, 4: 16, 5: 25, 6: 36}"
      ]
     },
     "execution_count": 14,
     "metadata": {},
     "output_type": "execute_result"
    }
   ],
   "source": [
    "dict = {int(x) : int(x)**2 for x in input().split()}\n",
    "dict"
   ]
  },
  {
   "cell_type": "code",
   "execution_count": 41,
   "id": "408951bc-d57f-4f06-94ab-5ed3fc4eacce",
   "metadata": {},
   "outputs": [
    {
     "name": "stdout",
     "output_type": "stream",
     "text": [
      "v\n"
     ]
    }
   ],
   "source": [
    "l = 1245633\n",
    "l = str(l)\n",
    "b = True\n",
    "for i in range(len(l)):\n",
    " if(l[i] != l[len(l)-i-1]):\n",
    "     b = False\n",
    "     break\n",
    "if(b):\n",
    "    print('a')\n",
    "else:\n",
    "    print(\"v\")"
   ]
  },
  {
   "cell_type": "code",
   "execution_count": 48,
   "id": "4ec1b526-daf5-4258-bc80-353696645d89",
   "metadata": {},
   "outputs": [
    {
     "ename": "KeyError",
     "evalue": "'pop from an empty set'",
     "output_type": "error",
     "traceback": [
      "\u001b[1;31m---------------------------------------------------------------------------\u001b[0m",
      "\u001b[1;31mKeyError\u001b[0m                                  Traceback (most recent call last)",
      "Cell \u001b[1;32mIn[48], line 4\u001b[0m\n\u001b[0;32m      2\u001b[0m p \u001b[38;5;241m=\u001b[39m l\u001b[38;5;241m.\u001b[39mpop()\n\u001b[0;32m      3\u001b[0m q \u001b[38;5;241m=\u001b[39m l\u001b[38;5;241m.\u001b[39mpop()\n\u001b[1;32m----> 4\u001b[0m o \u001b[38;5;241m=\u001b[39m \u001b[43ml\u001b[49m\u001b[38;5;241;43m.\u001b[39;49m\u001b[43mpop\u001b[49m\u001b[43m(\u001b[49m\u001b[43m)\u001b[49m\n",
      "\u001b[1;31mKeyError\u001b[0m: 'pop from an empty set'"
     ]
    }
   ],
   "source": [
    "l = {1,2}\n",
    "p = l.pop()\n",
    "q = l.pop()\n",
    "o = l.pop()"
   ]
  }
 ],
 "metadata": {
  "kernelspec": {
   "display_name": "Python 3 (ipykernel)",
   "language": "python",
   "name": "python3"
  },
  "language_info": {
   "codemirror_mode": {
    "name": "ipython",
    "version": 3
   },
   "file_extension": ".py",
   "mimetype": "text/x-python",
   "name": "python",
   "nbconvert_exporter": "python",
   "pygments_lexer": "ipython3",
   "version": "3.11.4"
  }
 },
 "nbformat": 4,
 "nbformat_minor": 5
}
