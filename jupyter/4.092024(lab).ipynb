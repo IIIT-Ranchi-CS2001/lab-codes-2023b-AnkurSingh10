{
 "cells": [
  {
   "cell_type": "code",
   "execution_count": 18,
   "id": "8f8be351-4178-4a7c-9d1a-191d98cba8a0",
   "metadata": {},
   "outputs": [
    {
     "name": "stdout",
     "output_type": "stream",
     "text": [
      "mAHA bHARAT\n",
      "Bharat\n",
      "BharatBharatBharat\n",
      "Mera Bharat\n",
      "Mera Bharat Mahan\n"
     ]
    }
   ],
   "source": [
    "#string manipulation\n",
    "s = \"Maha Bharat\"\n",
    "print(f\"{s.swapcase()}\")\n",
    "print(f\"{s[5:]}\")\n",
    "print(f\"{s[5:]*3}\")\n",
    "a = \"Mera \"\n",
    "b = \" Mahan\"\n",
    "print(f\"{a+ s[5:]}\")\n",
    "print(f\"{a+ s[5:]+b}\")"
   ]
  },
  {
   "cell_type": "code",
   "execution_count": 23,
   "id": "f3a3dc27-99f5-4f41-83e4-29366229ce0e",
   "metadata": {},
   "outputs": [
    {
     "name": "stdout",
     "output_type": "stream",
     "text": [
      "17\n",
      "14\n",
      "3\n",
      "Ta Ta Black Sheep\n"
     ]
    }
   ],
   "source": [
    "s2 =\"Ba Ba Black Sheep\"\n",
    "print(len(s2))\n",
    "print(s2.find('e'))\n",
    "print(s2.count('a'))\n",
    "print(s2.replace('Ba' , 'Ta'))"
   ]
  },
  {
   "cell_type": "code",
   "execution_count": 26,
   "id": "dbe383fb-1d87-4f5a-8656-664c8236c392",
   "metadata": {},
   "outputs": [
    {
     "name": "stdin",
     "output_type": "stream",
     "text": [
      "enter string ankur\n"
     ]
    },
    {
     "name": "stdout",
     "output_type": "stream",
     "text": [
      "not a palindrome\n"
     ]
    }
   ],
   "source": [
    "a = input(\"enter string\")\n",
    "p = a[::-1]\n",
    "if(a==p):\n",
    "    print(\"palindrome\")\n",
    "else:\n",
    "    print(\"not a palindrome\")\n",
    "    "
   ]
  },
  {
   "cell_type": "code",
   "execution_count": 31,
   "id": "24bc0740-f8ed-4b8f-8cf8-ce8cb7dc6a5e",
   "metadata": {},
   "outputs": [
    {
     "name": "stdin",
     "output_type": "stream",
     "text": [
      "ENTER NAME ankut\n",
      "ENTER ROLL NUMBER 5\n",
      "ENTER MARKS SECURED IN MATHEMATICS 56\n"
     ]
    },
    {
     "name": "stdout",
     "output_type": "stream",
     "text": [
      "NAME:ankut\n",
      " Rollno:5\n",
      " marks:56\n",
      "GRADE:6 \n",
      " remarks: PASS\n"
     ]
    }
   ],
   "source": [
    "name = input(\"ENTER NAME\")\n",
    "roll_no = int(input(\"ENTER ROLL NUMBER\"))\n",
    "marks = int(input(\"ENTER MARKS SECURED IN MATHEMATICS\"))\n",
    "print(f\"NAME:{name}\\n Rollno:{roll_no}\\n marks:{marks}\")\n",
    "if(marks>=90):\n",
    "    print(f\"  GRADE:{10}\\n remarks:{'OUTSTANDING'}\")\n",
    "elif(marks>=80 and marks<90):\n",
    "    print(f\"GRADE:{9}\\n remarks:{'VERY GOOD'}\")\n",
    "elif(marks>=70 and marks<80):\n",
    "     print(f\"GRADE:{8} \\n remarks:{'GOOD'}\")\n",
    "elif(marks>=60 and marks<70):\n",
    "     print(f\"GRADE:{7}\\n remarks:{'AVERAGE'}\")\n",
    "elif(marks>=50 and marks<60):\n",
    "     print(f\"GRADE:{6} \\n remarks: {'PASS'}\")\n",
    "elif(marks<50):\n",
    "     print(f\"GRADE:{0} \\n  remarks:{'FAIL'}\")\n",
    "    \n",
    "    "
   ]
  },
  {
   "cell_type": "code",
   "execution_count": 38,
   "id": "aec31edc-d435-4079-a84e-0655809111ff",
   "metadata": {},
   "outputs": [
    {
     "name": "stdin",
     "output_type": "stream",
     "text": [
      "enter a: 4\n",
      "enter b: 5\n",
      "enter c: 3\n"
     ]
    },
    {
     "name": "stdout",
     "output_type": "stream",
     "text": [
      "equation has two complex roots :-0.625 ,i0.5994789404140899\n"
     ]
    }
   ],
   "source": [
    "##### from math import sqrt\n",
    "a = int(input(\"enter a:\"))\n",
    "b = int(input(\"enter b:\"))\n",
    "c = int(input(\"enter c:\"))\n",
    "d = (b*b)-4*a*c\n",
    "if(d==0):\n",
    "    r = -(b/(2*a))\n",
    "    print(f\"equation has one real repeated root {r}\")\n",
    "elif(d>0):\n",
    "    r1 = (-b + sqrt(d))/(2*a)\n",
    "    r2 = (-b - sqrt(d))/(2*a)\n",
    "    print(f\"equation has two complex roots : {r1,r2}\")\n",
    "else:\n",
    "    r = -b / (2 * a) \n",
    "    i = sqrt(-d) / (2 * a)\n",
    "    print(f\"equation has two complex roots :{r} ,i{i}\")\n"
   ]
  },
  {
   "cell_type": "code",
   "execution_count": null,
   "id": "a652d2ac-58c3-4a47-a899-143230247ea5",
   "metadata": {},
   "outputs": [],
   "source": []
  }
 ],
 "metadata": {
  "kernelspec": {
   "display_name": "Python 3 (ipykernel)",
   "language": "python",
   "name": "python3"
  },
  "language_info": {
   "codemirror_mode": {
    "name": "ipython",
    "version": 3
   },
   "file_extension": ".py",
   "mimetype": "text/x-python",
   "name": "python",
   "nbconvert_exporter": "python",
   "pygments_lexer": "ipython3",
   "version": "3.11.4"
  }
 },
 "nbformat": 4,
 "nbformat_minor": 5
}
