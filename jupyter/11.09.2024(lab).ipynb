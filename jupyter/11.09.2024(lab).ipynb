{
 "cells": [
  {
   "cell_type": "code",
   "execution_count": 1,
   "id": "5ed693f3-c696-4d42-a3bf-19c9eea1a93e",
   "metadata": {},
   "outputs": [
    {
     "name": "stdin",
     "output_type": "stream",
     "text": [
      "enter n:  5\n"
     ]
    },
    {
     "name": "stdout",
     "output_type": "stream",
     "text": [
      "Number \t Square\n",
      "1 \t 1\n",
      "\n",
      "2 \t 4\n",
      "\n",
      "3 \t 9\n",
      "\n",
      "4 \t 16\n",
      "\n",
      "5 \t 25\n",
      "\n"
     ]
    }
   ],
   "source": [
    "n = int(input(\"enter n: \"))\n",
    "print(\"Number \\t Square\")\n",
    "for i in range(1,n+1):\n",
    "    print(f\"{i} \\t {i*i}\\n\")"
   ]
  },
  {
   "cell_type": "code",
   "execution_count": 3,
   "id": "0e1854c8-41b8-43f6-9082-4532d43da21d",
   "metadata": {},
   "outputs": [
    {
     "name": "stdin",
     "output_type": "stream",
     "text": [
      "enter n:  45126\n"
     ]
    },
    {
     "name": "stdout",
     "output_type": "stream",
     "text": [
      "number is: 45126 and sum of its digit is 18\n"
     ]
    }
   ],
   "source": [
    "n = int(input(\"enter n: \"))\n",
    "sum = 0\n",
    "t = n\n",
    "while(t>0):\n",
    "    c= t%10\n",
    "    sum = sum+c\n",
    "    t = t//10\n",
    "print(f\"number is: {n} and sum of its digit is {sum}\")    "
   ]
  },
  {
   "cell_type": "code",
   "execution_count": 7,
   "id": "f7be418a-dadd-4d39-b1da-e1dd240cdf4f",
   "metadata": {},
   "outputs": [
    {
     "name": "stdin",
     "output_type": "stream",
     "text": [
      "enter n:  8\n"
     ]
    },
    {
     "name": "stdout",
     "output_type": "stream",
     "text": [
      "[1, 1, 2, 3, 5, 8, 13, 21, 34]\n"
     ]
    }
   ],
   "source": [
    "n = int(input(\"enter n: \"))\n",
    "a = []\n",
    "a.append(1)\n",
    "a.append(1)\n",
    "i = 2\n",
    "while(i<=n):\n",
    "    a.append(a[i-1]+a[i-2])\n",
    "    i=i+1\n",
    "print(a)"
   ]
  },
  {
   "cell_type": "code",
   "execution_count": 8,
   "id": "b5209172-8782-4e4a-8b61-ce72c32a4784",
   "metadata": {},
   "outputs": [
    {
     "name": "stdin",
     "output_type": "stream",
     "text": [
      "enter number to print  the table:  5\n",
      "set limit:  11\n"
     ]
    },
    {
     "name": "stdout",
     "output_type": "stream",
     "text": [
      "5 x 1 = 5\n",
      "5 x 2 = 10\n",
      "5 x 3 = 15\n",
      "5 x 4 = 20\n",
      "5 x 5 = 25\n",
      "5 x 6 = 30\n",
      "5 x 7 = 35\n",
      "5 x 8 = 40\n",
      "5 x 9 = 45\n",
      "5 x 10 = 50\n",
      "5 x 11 = 55\n"
     ]
    }
   ],
   "source": [
    "n = int(input(\"enter number to print  the table: \"))\n",
    "m = int(input(\"set limit: \"))\n",
    "for i in range(1,m+1):\n",
    "    print(f\"{n} x {i} = {n*i}\")"
   ]
  },
  {
   "cell_type": "code",
   "execution_count": 16,
   "id": "06631d13-0706-49ab-a748-336ce407044e",
   "metadata": {},
   "outputs": [
    {
     "name": "stdin",
     "output_type": "stream",
     "text": [
      "enter a string:  ankut54\n"
     ]
    },
    {
     "name": "stdout",
     "output_type": "stream",
     "text": [
      "True\n"
     ]
    }
   ],
   "source": [
    "s = input(\"enter a string: \")\n",
    "b = True\n",
    "for i in s:    \n",
    "    if ('A' <= i <= 'Z') or ('a' <= i <= 'z') or ('0' <= i <= '9') :\n",
    "        b = True\n",
    "    else:\n",
    "        b = False\n",
    "        break\n",
    "        \n",
    "if(b):\n",
    "    print(\"True\")\n",
    "else:\n",
    "    print(\"False\")"
   ]
  },
  {
   "cell_type": "code",
   "execution_count": null,
   "id": "2593e097-535d-4179-8c73-8b4235299dbe",
   "metadata": {},
   "outputs": [],
   "source": [
    "s = input(\"enter a string: \")\n",
    "c = input(\"enter character to find its occurence in the string\")\n",
    "cnt = 0\n",
    "for i in s:\n",
    "    if(i==c):\n",
    "        cnt+=1\n",
    "print(f\"number of occurence of {c} in {s} is : {cnt}\")        "
   ]
  },
  {
   "cell_type": "code",
   "execution_count": null,
   "id": "ffba1619-0ae9-4c2c-9a65-6faf4e46c1e2",
   "metadata": {},
   "outputs": [],
   "source": []
  }
 ],
 "metadata": {
  "kernelspec": {
   "display_name": "Python 3 (ipykernel)",
   "language": "python",
   "name": "python3"
  },
  "language_info": {
   "codemirror_mode": {
    "name": "ipython",
    "version": 3
   },
   "file_extension": ".py",
   "mimetype": "text/x-python",
   "name": "python",
   "nbconvert_exporter": "python",
   "pygments_lexer": "ipython3",
   "version": "3.11.4"
  }
 },
 "nbformat": 4,
 "nbformat_minor": 5
}
