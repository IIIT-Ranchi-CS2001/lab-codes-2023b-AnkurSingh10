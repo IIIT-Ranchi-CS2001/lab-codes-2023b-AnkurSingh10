{
 "cells": [
  {
   "cell_type": "code",
   "execution_count": 9,
   "id": "3afefba1-0fd2-46e3-9f7b-30dd7b9b8fb9",
   "metadata": {},
   "outputs": [
    {
     "name": "stdin",
     "output_type": "stream",
     "text": [
      "enter data 8 3\n"
     ]
    },
    {
     "name": "stdout",
     "output_type": "stream",
     "text": [
      "Inputs are 8 , 3\n"
     ]
    }
   ],
   "source": [
    "#EXPERIMENT 1\n",
    "a,b = map(int,input(\"enter data\").split()) \n",
    "print(f\"Inputs are {a} , {b}\")"
   ]
  },
  {
   "cell_type": "code",
   "execution_count": 10,
   "id": "747779c8-498c-4d59-be7c-e66d12248ea2",
   "metadata": {},
   "outputs": [
    {
     "name": "stdout",
     "output_type": "stream",
     "text": [
      "Difference is:5\n",
      "Product is: 24\n",
      "quotient is:2\n",
      "Remainder is : 2\n",
      "Fractional quotient is :2.6666666666666665\n"
     ]
    }
   ],
   "source": [
    "print(f\"Difference is:{abs(a-b)}\")\n",
    "print(f\"Product is: {a*b}\")\n",
    "print(f\"quotient is:{a//b}\")\n",
    "print(f\"Remainder is : {a%b}\")\n",
    "print(f\"Fractional quotient is :{a/b}\")"
   ]
  },
  {
   "cell_type": "code",
   "execution_count": null,
   "id": "614c1086-00e3-429b-a4dc-bee6240b2ec9",
   "metadata": {},
   "outputs": [],
   "source": [
    "#EXPERIMENT 2\n",
    "#find area & parameter of the traingles given 3 sides\n",
    "#find all the 3 angles of the traingle"
   ]
  },
  {
   "cell_type": "code",
   "execution_count": 17,
   "id": "7727ebec-d1da-4dcd-860a-2489dd8e43a3",
   "metadata": {},
   "outputs": [
    {
     "name": "stdin",
     "output_type": "stream",
     "text": [
      "enter side 1 , side2 , side3:  5 4 3\n"
     ]
    },
    {
     "name": "stdout",
     "output_type": "stream",
     "text": [
      "AREA AND PERIMETER IS: 6.0,12\n",
      "ANGLES ARE : 90.0,53.13010235415599,36.86989764584401\n"
     ]
    }
   ],
   "source": [
    "s1 ,s2 ,s3 = map(int,input(\"enter side 1 , side2 , side3: \").split()) \n",
    "s = (s1+s2+s3)/2\n",
    "import math\n",
    "area = math.sqrt((s-s1)*(s-s2)*(s-s3)*s)\n",
    "perimeter = s1+s2+s3\n",
    "angle1 = math.degrees(math.acos((s2*s2+s3*s3-s1*s1)/(2*s2*s3)))\n",
    "angle2 = math.degrees(math.acos((s1*s1+s3*s3-s2*s2)/(2*s1*s3)))\n",
    "angle3 = math.degrees(math.acos((s1*s1+s2*s2-s3*s3)/(2*s1*s2)))\n",
    "print(f\"AREA AND PERIMETER IS: {area},{perimeter}\")\n",
    "print(f\"ANGLES ARE : {angle1},{angle2},{angle3}\")                     "
   ]
  },
  {
   "cell_type": "code",
   "execution_count": 19,
   "id": "6e067107-2dc0-4d43-8cc3-8e46d9e1b5fe",
   "metadata": {},
   "outputs": [
    {
     "name": "stdin",
     "output_type": "stream",
     "text": [
      "enter temp in celsius:  100\n"
     ]
    },
    {
     "name": "stdout",
     "output_type": "stream",
     "text": [
      "Temperature in Farenhite is: 212.0\n"
     ]
    }
   ],
   "source": [
    "#celsius to farenhite\n",
    "t = int(input(\"enter temp in celsius: \"))\n",
    "print(f\"Temperature in Farenhite is: {t*1.8+32}\")"
   ]
  },
  {
   "cell_type": "code",
   "execution_count": null,
   "id": "1ccb4406-5231-4a05-8315-81c6b0eb0d3d",
   "metadata": {},
   "outputs": [],
   "source": []
  }
 ],
 "metadata": {
  "kernelspec": {
   "display_name": "Python 3 (ipykernel)",
   "language": "python",
   "name": "python3"
  },
  "language_info": {
   "codemirror_mode": {
    "name": "ipython",
    "version": 3
   },
   "file_extension": ".py",
   "mimetype": "text/x-python",
   "name": "python",
   "nbconvert_exporter": "python",
   "pygments_lexer": "ipython3",
   "version": "3.11.4"
  }
 },
 "nbformat": 4,
 "nbformat_minor": 5
}
