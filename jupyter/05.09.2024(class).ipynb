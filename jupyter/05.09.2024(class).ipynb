{
 "cells": [
  {
   "cell_type": "markdown",
   "id": "f172ee1b-9503-4754-aaac-2f5a270a5ff0",
   "metadata": {},
   "source": [
    "**if-else conditions**"
   ]
  },
  {
   "cell_type": "code",
   "execution_count": 10,
   "id": "93af4b53-1e4f-4672-91d1-bb805820f277",
   "metadata": {},
   "outputs": [
    {
     "name": "stdout",
     "output_type": "stream",
     "text": [
      "yes\n"
     ]
    }
   ],
   "source": [
    "# a = 3\n",
    "a = 2\n",
    "if(a==2):\n",
    "    print(\"yes\")\n",
    "else:\n",
    "    print(\"no\")"
   ]
  },
  {
   "cell_type": "code",
   "execution_count": 6,
   "id": "1c416f9f-c271-4fc8-ac43-2ce764392e08",
   "metadata": {},
   "outputs": [
    {
     "name": "stdout",
     "output_type": "stream",
     "text": [
      "NOT Eligible\n"
     ]
    }
   ],
   "source": [
    "age = 19\n",
    "voter_id = 0\n",
    "if(age>=18 and voter_id):\n",
    "    print(\"Eligible for voting\")\n",
    "else:\n",
    "    print(\"NOT Eligible\")"
   ]
  },
  {
   "cell_type": "code",
   "execution_count": 9,
   "id": "846e3e74-5167-423a-b08c-35f3c5bb282f",
   "metadata": {},
   "outputs": [
    {
     "name": "stdin",
     "output_type": "stream",
     "text": [
      "ENTER NAME ankur\n",
      "ENTER ROLL NUMBER 10\n",
      "ENTER MARKS SECURED IN MATHEMATICS 98\n"
     ]
    },
    {
     "name": "stdout",
     "output_type": "stream",
     "text": [
      "NAME:ankur\n",
      " Rollno:10\n",
      " marks:98\n",
      "  GRADE:10\n",
      " remarks:OUTSTANDING\n"
     ]
    }
   ],
   "source": [
    "name = input(\"ENTER NAME\")\n",
    "roll_no = int(input(\"ENTER ROLL NUMBER\"))\n",
    "marks = int(input(\"ENTER MARKS SECURED IN MATHEMATICS\"))\n",
    "print(f\"NAME:{name}\\n Rollno:{roll_no}\\n marks:{marks}\")\n",
    "if(marks>=90):\n",
    "    print(f\"  GRADE:{10}\\n remarks:{'OUTSTANDING'}\")\n",
    "elif(marks>=80 and marks<90):\n",
    "    print(f\"GRADE:{9}\\n remarks:{'VERY GOOD'}\")\n",
    "elif(marks>=70 and marks<80):\n",
    "     print(f\"GRADE:{8} \\n remarks:{'GOOD'}\")\n",
    "elif(marks>=60 and marks<70):\n",
    "     print(f\"GRADE:{7}\\n remarks:{'AVERAGE'}\")\n",
    "elif(marks>=50 and marks<60):\n",
    "     print(f\"GRADE:{6} \\n remarks: {'PASS'}\")\n",
    "elif(marks<50):\n",
    "     print(f\"GRADE:{0}\\n  remarks:{'FAIL'}\")\n",
    "    "
   ]
  },
  {
   "cell_type": "markdown",
   "id": "93ff0a09-a5ed-42a9-b983-71e1de5726b4",
   "metadata": {},
   "source": [
    "**while loop**"
   ]
  },
  {
   "cell_type": "code",
   "execution_count": null,
   "id": "725a4caa-bda4-4798-8ef1-e7b048fc796d",
   "metadata": {},
   "outputs": [
    {
     "name": "stdout",
     "output_type": "stream",
     "text": [
      "hello guys\n",
      "hello guys\n",
      "hello guys\n",
      "hello guys\n",
      "hello guys\n"
     ]
    }
   ],
   "source": [
    "a = 8\n",
    "while(a>1):\n",
    "    if(a==3):\n",
    "        continue\n",
    "    print(\"hello guys\")\n",
    "    a = a-1\n",
    "    "
   ]
  },
  {
   "cell_type": "code",
   "execution_count": 2,
   "id": "6ef4afac-a5f0-411c-badd-4627ba6b218f",
   "metadata": {},
   "outputs": [
    {
     "name": "stdout",
     "output_type": "stream",
     "text": [
      "pyth#n\n"
     ]
    }
   ],
   "source": [
    "mystr = 'python'\n",
    "x = -1\n",
    "newstr = ''\n",
    "while(x<len(mystr)-1):\n",
    "    x = x+1\n",
    "    if(mystr[x] in ['a','e','i','o','u']):\n",
    "        newstr = newstr+'#'\n",
    "        continue\n",
    "    newstr = newstr+mystr[x]\n",
    "print(newstr)"
   ]
  },
  {
   "cell_type": "markdown",
   "id": "2aa5fc4d-858a-4693-bc26-daaa7b00221c",
   "metadata": {},
   "source": [
    "**for loop**\n"
   ]
  },
  {
   "cell_type": "code",
   "execution_count": 6,
   "id": "c6b94aa9-24ea-4bf9-b54c-f33000309901",
   "metadata": {},
   "outputs": [
    {
     "name": "stdout",
     "output_type": "stream",
     "text": [
      "1\n",
      "2\n",
      "3\n",
      "4\n",
      "5\n",
      "6\n",
      "A\n",
      "N\n",
      "K\n",
      "U\n",
      "R\n"
     ]
    }
   ],
   "source": [
    "a = (1,2,3,4,5,6)\n",
    "for i in a:\n",
    "    print(i)\n",
    "b = 'ANKUR' \n",
    "for i in b:\n",
    "    print(i)"
   ]
  },
  {
   "cell_type": "code",
   "execution_count": 9,
   "id": "2bcdd1e8-4f1e-4420-8e57-74e9ed95969b",
   "metadata": {},
   "outputs": [
    {
     "name": "stdout",
     "output_type": "stream",
     "text": [
      "1\n",
      "3\n",
      "5\n",
      "7\n",
      "9\n"
     ]
    }
   ],
   "source": [
    "for i in range(1,10,2): #starting , end , steps\n",
    "    print(i)\n",
    "for i in range(1,10,-1): #gives empty seq\n",
    "    print(i)"
   ]
  },
  {
   "cell_type": "code",
   "execution_count": 12,
   "id": "a0a3fa1e-daa4-44ef-aed1-8d42ebb43f51",
   "metadata": {},
   "outputs": [
    {
     "name": "stdout",
     "output_type": "stream",
     "text": [
      "(0, 'p')\n",
      "(1, 'y')\n",
      "(2, 't')\n",
      "(3, 'h')\n",
      "(4, 'o')\n",
      "(5, 'n')\n",
      "p\n",
      "y\n",
      "t\n",
      "h\n",
      "o\n",
      "n\n"
     ]
    }
   ],
   "source": [
    "s = 'python'\n",
    "for i in enumerate(s): #gives index and value in tuple form\n",
    "    print(i)\n",
    "for i,j in enumerate(s): \n",
    "    print(j)"
   ]
  },
  {
   "cell_type": "code",
   "execution_count": 15,
   "id": "db5a7956-b33f-4a3d-b455-bdc3ce187240",
   "metadata": {},
   "outputs": [
    {
     "name": "stdout",
     "output_type": "stream",
     "text": [
      "vowel is present\n"
     ]
    }
   ],
   "source": [
    "s = 'Ankur'\n",
    "chk = 0\n",
    "for i in s:\n",
    "    if(i in ['a','e','i','o','u','A','E','I','O','U']):\n",
    "        chk = 1\n",
    "if(chk):\n",
    "    print(\"vowel is present\")\n",
    "else:\n",
    "    print(\"No Vowel\")"
   ]
  },
  {
   "cell_type": "markdown",
   "id": "31883619-0f51-4a0c-9f3d-28e7a4ac6d27",
   "metadata": {},
   "source": [
    "**LIST**"
   ]
  },
  {
   "cell_type": "code",
   "execution_count": 17,
   "id": "aef52b81-d981-4f69-a761-d60534486190",
   "metadata": {},
   "outputs": [],
   "source": [
    "list = [1,2,'a','ankur']\n"
   ]
  },
  {
   "cell_type": "code",
   "execution_count": null,
   "id": "8ba4b2c8-9e1c-40dd-aeda-b217432a7f40",
   "metadata": {},
   "outputs": [],
   "source": []
  }
 ],
 "metadata": {
  "kernelspec": {
   "display_name": "Python 3 (ipykernel)",
   "language": "python",
   "name": "python3"
  },
  "language_info": {
   "codemirror_mode": {
    "name": "ipython",
    "version": 3
   },
   "file_extension": ".py",
   "mimetype": "text/x-python",
   "name": "python",
   "nbconvert_exporter": "python",
   "pygments_lexer": "ipython3",
   "version": "3.11.4"
  }
 },
 "nbformat": 4,
 "nbformat_minor": 5
}
