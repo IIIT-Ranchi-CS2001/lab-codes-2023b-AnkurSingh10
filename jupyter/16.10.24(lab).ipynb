{
 "cells": [
  {
   "cell_type": "markdown",
   "id": "bfc969f7-1ce5-4887-a551-3c4970b30e00",
   "metadata": {},
   "source": [
    "**function , recurssion , special function**"
   ]
  },
  {
   "cell_type": "markdown",
   "id": "65274f9a-4b12-450c-a14e-f24b9a67b04b",
   "metadata": {},
   "source": [
    "****find the sum of exponential series : cosx = (1-x^2/2!)+x^4/4!****"
   ]
  },
  {
   "cell_type": "code",
   "execution_count": 20,
   "id": "aae55903-1309-4100-a277-93ab4b459542",
   "metadata": {},
   "outputs": [
    {
     "name": "stdin",
     "output_type": "stream",
     "text": [
      " 4 4\n"
     ]
    },
    {
     "data": {
      "text/plain": [
       "-2.022222222222223"
      ]
     },
     "execution_count": 20,
     "metadata": {},
     "output_type": "execute_result"
    }
   ],
   "source": [
    "import math\n",
    "def cos(x, n):\n",
    "    if n == 0:\n",
    "        return 0\n",
    "    sumi = ((-1)**(n-1)) * (x**(2*(n-1)) / math.factorial(2*(n-1)))\n",
    "    return sumi + cos(x, n-1)\n",
    "x,n = map(int ,input().split())\n",
    "cos(x,n)"
   ]
  },
  {
   "cell_type": "code",
   "execution_count": 30,
   "id": "7a46e067-a948-43b2-8066-fe19d36f5313",
   "metadata": {},
   "outputs": [
    {
     "name": "stdout",
     "output_type": "stream",
     "text": [
      "students in both events: {'patlu'}\n",
      " students in one event: {'bheem', 'jerry', 'jon', 'ben'}\n",
      " absents:{'tom'}\n"
     ]
    }
   ],
   "source": [
    "students = {\"bheem\" , \"tom\" , \"jerry\" , \"motu\" , \"patlu\" , \"ben\" , \"jon\"}\n",
    "exibition_event = {\"bheem\" , \"jon\" , \"patlu\"}\n",
    "sport_event = {\"jerry\" , \"ben\", \"patlu\"}\n",
    "present  = {\"motu\"}\n",
    "both_event = exibition_event&sport_event\n",
    "one_event = exibition_event^sport_event\n",
    "absent = students-(exibition_event|sport_event|present)\n",
    "print(f\"students in both events: {both_event}\\n students in one event: {one_event}\\n absents:{absent}\")"
   ]
  }
 ],
 "metadata": {
  "kernelspec": {
   "display_name": "Python 3 (ipykernel)",
   "language": "python",
   "name": "python3"
  },
  "language_info": {
   "codemirror_mode": {
    "name": "ipython",
    "version": 3
   },
   "file_extension": ".py",
   "mimetype": "text/x-python",
   "name": "python",
   "nbconvert_exporter": "python",
   "pygments_lexer": "ipython3",
   "version": "3.11.4"
  }
 },
 "nbformat": 4,
 "nbformat_minor": 5
}
