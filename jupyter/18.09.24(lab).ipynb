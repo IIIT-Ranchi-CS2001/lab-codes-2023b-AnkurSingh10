{
 "cells": [
  {
   "cell_type": "markdown",
   "id": "6522a846-d022-42fa-8f04-1d76d73178e2",
   "metadata": {},
   "source": [
    "**Find the number of palindrome words in the given sentence without using any function.**"
   ]
  },
  {
   "cell_type": "code",
   "execution_count": 6,
   "id": "44105b59-e743-4b98-80e8-cfd5f1aad510",
   "metadata": {},
   "outputs": [
    {
     "name": "stdin",
     "output_type": "stream",
     "text": [
      "enter sentence: nkut naman oppo shiv\n"
     ]
    },
    {
     "name": "stdout",
     "output_type": "stream",
     "text": [
      "Number of palindrome words in the sentence is : 2\n"
     ]
    }
   ],
   "source": [
    "s  = input(\"enter sentence:\")\n",
    "def  ispalindrome(s):\n",
    "      p = s[::-1]\n",
    "      if(s==p):           \n",
    "          return True\n",
    "      else:      \n",
    "          return False\n",
    "cnt = 0  \n",
    "word = s.split()\n",
    "for i in word:\n",
    "    if(ispalindrome(i)):\n",
    "        cnt+=1\n",
    "print(f\"Number of palindrome words in the sentence is : {cnt}\")        "
   ]
  },
  {
   "cell_type": "markdown",
   "id": "847a3c13-cafe-4503-b127-20a92fb3e057",
   "metadata": {},
   "source": [
    "**Create a list of int using list comprehension [multiple input from keyboard].  Find the mean, median, and mode of the given list.**"
   ]
  },
  {
   "cell_type": "code",
   "execution_count": 22,
   "id": "d5306f30-a235-46b6-acd9-352b56694561",
   "metadata": {},
   "outputs": [
    {
     "name": "stdin",
     "output_type": "stream",
     "text": [
      "Enter integers:  4 5 6 2\n"
     ]
    },
    {
     "name": "stdout",
     "output_type": "stream",
     "text": [
      "mean is: 4.25\n",
      "mode is: 4\n",
      "median is: 4.5\n"
     ]
    }
   ],
   "source": [
    "import statistics\n",
    "input_data = input(\"Enter integers: \")\n",
    "lst = [int(i) for i in input_data.split()]\n",
    "print(f\"mean is: {statistics.mean(lst)}\")\n",
    "print(f\"mode is: {statistics.mode(lst)}\")\n",
    "print(f\"median is: {statistics.median(lst)}\")"
   ]
  },
  {
   "cell_type": "markdown",
   "id": "856fdbbd-f350-43c7-bfda-8bd8989c0f24",
   "metadata": {},
   "source": [
    "**Generate 2 lists (course code and course name). create a new list with both course code and name like[\"CS1001:Python\",...]**"
   ]
  },
  {
   "cell_type": "code",
   "execution_count": 36,
   "id": "53508f9a-3090-49e6-8d8e-d558f56ce4e1",
   "metadata": {},
   "outputs": [
    {
     "data": {
      "text/plain": [
       "['CS1001:PYTHON', 'CS2001:ALGO', 'CS2007:TOC']"
      ]
     },
     "execution_count": 36,
     "metadata": {},
     "output_type": "execute_result"
    }
   ],
   "source": [
    "course_code = [\"CS1001\" , \"CS2001\" , \"CS2007\"]\n",
    "course_name = [\"PYTHON\" , \"ALGO\" , \"TOC\"]\n",
    "data = [f\"{code}:{name}\" for code, name in zip(course_code, course_name)]\n",
    "data"
   ]
  },
  {
   "cell_type": "markdown",
   "id": "764e5406-848b-41fc-9106-a7ee2fb4f5ab",
   "metadata": {},
   "source": [
    "**Generate two sets – first f  or all singers and second for all dancers of the class using set comprehension. Perform set operations to generate the following sets \n",
    "of all artists of the class\n",
    "allrounders of the class\n",
    "dancers but not singers\n",
    "singers but not dancers\n",
    "dancers but not singers cum singers but not dancers**"
   ]
  },
  {
   "cell_type": "code",
   "execution_count": 37,
   "id": "2ea4f8c8-b95e-42c8-b5d9-6fe9eecd3a6a",
   "metadata": {},
   "outputs": [
    {
     "name": "stdout",
     "output_type": "stream",
     "text": [
      " All the artists in the class: {'ABHISHEK', 'MANAS', 'ANKUR', 'TRIPATHI', 'ARKA', 'ASHUTOSH', 'SUTANU', 'VAINHAV'}\n",
      " AllRounders in the class: {'ARKA', 'ABHISHEK'}\n",
      " Only singers: {'SUTANU', 'ANKUR', 'VAINHAV'}\n",
      " only dancers: {'TRIPATHI', 'MANAS', 'ASHUTOSH'}\n",
      " cum of only singers and only dancers: {'MANAS', 'ASHUTOSH', 'SUTANU', 'ANKUR', 'VAINHAV', 'TRIPATHI'}\n"
     ]
    }
   ],
   "source": [
    "singer = {\"ANKUR\" , \"VAIBHAV\" , \"SUTANU\" , \"ABHISHEK\" , \"ARKA\"}\n",
    "dancer = {\"MANAS\" , \"TRIPATHI\" ,\"ARKA\", \"ASHUTOSH\",\"ABHISHEK\"}\n",
    "all_artists = singer|dancer\n",
    "allrounders = singer & dancer\n",
    "only_dancers = dancer-singer\n",
    "only_singers = singer-dancer\n",
    "cum = only_dancers | only_singers\n",
    "print(f\" All the artists in the class: {all_artists}\\n AllRounders in the class: {allrounders}\\n Only singers: {only_singers}\\n only dancers: {only_dancers}\\n cum of only singers and only dancers: {cum}\")"
   ]
  }
 ],
 "metadata": {
  "kernelspec": {
   "display_name": "Python 3 (ipykernel)",
   "language": "python",
   "name": "python3"
  },
  "language_info": {
   "codemirror_mode": {
    "name": "ipython",
    "version": 3
   },
   "file_extension": ".py",
   "mimetype": "text/x-python",
   "name": "python",
   "nbconvert_exporter": "python",
   "pygments_lexer": "ipython3",
   "version": "3.11.4"
  }
 },
 "nbformat": 4,
 "nbformat_minor": 5
}
