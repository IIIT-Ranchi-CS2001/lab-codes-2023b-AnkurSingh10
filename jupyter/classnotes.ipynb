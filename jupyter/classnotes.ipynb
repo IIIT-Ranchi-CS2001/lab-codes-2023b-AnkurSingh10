{
 "cells": [
  {
   "cell_type": "markdown",
   "id": "f172ee1b-9503-4754-aaac-2f5a270a5ff0",
   "metadata": {},
   "source": [
    "**if-else conditions**"
   ]
  },
  {
   "cell_type": "code",
   "execution_count": 10,
   "id": "93af4b53-1e4f-4672-91d1-bb805820f277",
   "metadata": {},
   "outputs": [
    {
     "name": "stdout",
     "output_type": "stream",
     "text": [
      "yes\n"
     ]
    }
   ],
   "source": [
    "# a = 3\n",
    "a = 2\n",
    "if(a==2):\n",
    "    print(\"yes\")\n",
    "else:\n",
    "    print(\"no\")"
   ]
  },
  {
   "cell_type": "code",
   "execution_count": 6,
   "id": "1c416f9f-c271-4fc8-ac43-2ce764392e08",
   "metadata": {},
   "outputs": [
    {
     "name": "stdout",
     "output_type": "stream",
     "text": [
      "NOT Eligible\n"
     ]
    }
   ],
   "source": [
    "age = 19\n",
    "voter_id = 0\n",
    "if(age>=18 and voter_id):\n",
    "    print(\"Eligible for voting\")\n",
    "else:\n",
    "    print(\"NOT Eligible\")"
   ]
  },
  {
   "cell_type": "code",
   "execution_count": 9,
   "id": "846e3e74-5167-423a-b08c-35f3c5bb282f",
   "metadata": {},
   "outputs": [
    {
     "name": "stdin",
     "output_type": "stream",
     "text": [
      "ENTER NAME ankur\n",
      "ENTER ROLL NUMBER 10\n",
      "ENTER MARKS SECURED IN MATHEMATICS 98\n"
     ]
    },
    {
     "name": "stdout",
     "output_type": "stream",
     "text": [
      "NAME:ankur\n",
      " Rollno:10\n",
      " marks:98\n",
      "  GRADE:10\n",
      " remarks:OUTSTANDING\n"
     ]
    }
   ],
   "source": [
    "name = input(\"ENTER NAME\")\n",
    "roll_no = int(input(\"ENTER ROLL NUMBER\"))\n",
    "marks = int(input(\"ENTER MARKS SECURED IN MATHEMATICS\"))\n",
    "print(f\"NAME:{name}\\n Rollno:{roll_no}\\n marks:{marks}\")\n",
    "if(marks>=90):\n",
    "    print(f\"  GRADE:{10}\\n remarks:{'OUTSTANDING'}\")\n",
    "elif(marks>=80 and marks<90):\n",
    "    print(f\"GRADE:{9}\\n remarks:{'VERY GOOD'}\")\n",
    "elif(marks>=70 and marks<80):\n",
    "     print(f\"GRADE:{8} \\n remarks:{'GOOD'}\")\n",
    "elif(marks>=60 and marks<70):\n",
    "     print(f\"GRADE:{7}\\n remarks:{'AVERAGE'}\")\n",
    "elif(marks>=50 and marks<60):\n",
    "     print(f\"GRADE:{6} \\n remarks: {'PASS'}\")\n",
    "elif(marks<50):\n",
    "     print(f\"GRADE:{0}\\n  remarks:{'FAIL'}\")\n",
    "    "
   ]
  },
  {
   "cell_type": "markdown",
   "id": "93ff0a09-a5ed-42a9-b983-71e1de5726b4",
   "metadata": {},
   "source": [
    "**while loop**"
   ]
  },
  {
   "cell_type": "code",
   "execution_count": null,
   "id": "725a4caa-bda4-4798-8ef1-e7b048fc796d",
   "metadata": {},
   "outputs": [
    {
     "name": "stdout",
     "output_type": "stream",
     "text": [
      "hello guys\n",
      "hello guys\n",
      "hello guys\n",
      "hello guys\n",
      "hello guys\n"
     ]
    }
   ],
   "source": [
    "a = 8\n",
    "while(a>1):\n",
    "    if(a==3):\n",
    "        continue\n",
    "    print(\"hello guys\")\n",
    "    a = a-1\n",
    "    "
   ]
  },
  {
   "cell_type": "code",
   "execution_count": 2,
   "id": "6ef4afac-a5f0-411c-badd-4627ba6b218f",
   "metadata": {},
   "outputs": [
    {
     "name": "stdout",
     "output_type": "stream",
     "text": [
      "pyth#n\n"
     ]
    }
   ],
   "source": [
    "mystr = 'python'\n",
    "x = -1\n",
    "newstr = ''\n",
    "while(x<len(mystr)-1):\n",
    "    x = x+1\n",
    "    if(mystr[x] in ['a','e','i','o','u']):\n",
    "        newstr = newstr+'#'\n",
    "        continue\n",
    "    newstr = newstr+mystr[x]\n",
    "print(newstr)"
   ]
  },
  {
   "cell_type": "markdown",
   "id": "2aa5fc4d-858a-4693-bc26-daaa7b00221c",
   "metadata": {},
   "source": [
    "**for loop**\n"
   ]
  },
  {
   "cell_type": "code",
   "execution_count": 6,
   "id": "c6b94aa9-24ea-4bf9-b54c-f33000309901",
   "metadata": {},
   "outputs": [
    {
     "name": "stdout",
     "output_type": "stream",
     "text": [
      "1\n",
      "2\n",
      "3\n",
      "4\n",
      "5\n",
      "6\n",
      "A\n",
      "N\n",
      "K\n",
      "U\n",
      "R\n"
     ]
    }
   ],
   "source": [
    "a = (1,2,3,4,5,6)\n",
    "for i in a:\n",
    "    print(i)\n",
    "b = 'ANKUR' \n",
    "for i in b:\n",
    "    print(i)"
   ]
  },
  {
   "cell_type": "code",
   "execution_count": 9,
   "id": "2bcdd1e8-4f1e-4420-8e57-74e9ed95969b",
   "metadata": {},
   "outputs": [
    {
     "name": "stdout",
     "output_type": "stream",
     "text": [
      "1\n",
      "3\n",
      "5\n",
      "7\n",
      "9\n"
     ]
    }
   ],
   "source": [
    "for i in range(1,10,2): #starting , end , steps\n",
    "    print(i)\n",
    "for i in range(1,10,-1): #gives empty seq\n",
    "    print(i)"
   ]
  },
  {
   "cell_type": "code",
   "execution_count": 12,
   "id": "a0a3fa1e-daa4-44ef-aed1-8d42ebb43f51",
   "metadata": {},
   "outputs": [
    {
     "name": "stdout",
     "output_type": "stream",
     "text": [
      "(0, 'p')\n",
      "(1, 'y')\n",
      "(2, 't')\n",
      "(3, 'h')\n",
      "(4, 'o')\n",
      "(5, 'n')\n",
      "p\n",
      "y\n",
      "t\n",
      "h\n",
      "o\n",
      "n\n"
     ]
    }
   ],
   "source": [
    "s = 'python'\n",
    "for i in enumerate(s): #gives index and value in tuple form\n",
    "    print(i)\n",
    "for i,j in enumerate(s): \n",
    "    print(j)"
   ]
  },
  {
   "cell_type": "code",
   "execution_count": 15,
   "id": "db5a7956-b33f-4a3d-b455-bdc3ce187240",
   "metadata": {},
   "outputs": [
    {
     "name": "stdout",
     "output_type": "stream",
     "text": [
      "vowel is present\n"
     ]
    }
   ],
   "source": [
    "s = 'Ankur'\n",
    "chk = 0\n",
    "for i in s:\n",
    "    if(i in ['a','e','i','o','u','A','E','I','O','U']):\n",
    "        chk = 1\n",
    "if(chk):\n",
    "    print(\"vowel is present\")\n",
    "else:\n",
    "    print(\"No Vowel\")"
   ]
  },
  {
   "cell_type": "markdown",
   "id": "31883619-0f51-4a0c-9f3d-28e7a4ac6d27",
   "metadata": {},
   "source": [
    "**LIST**"
   ]
  },
  {
   "cell_type": "code",
   "execution_count": 2,
   "id": "aef52b81-d981-4f69-a761-d60534486190",
   "metadata": {},
   "outputs": [],
   "source": [
    "list = [1,2,'a','ankur']\n"
   ]
  },
  {
   "cell_type": "markdown",
   "id": "d9476580-aa5e-4b4f-ab1f-94b22b720469",
   "metadata": {},
   "source": [
    "**11.09.2024**"
   ]
  },
  {
   "cell_type": "code",
   "execution_count": 9,
   "id": "e87e0272-6037-46c7-9976-c78ecc9b0a16",
   "metadata": {},
   "outputs": [],
   "source": [
    "list[0]=7"
   ]
  },
  {
   "cell_type": "code",
   "execution_count": 13,
   "id": "8928c70e-2f91-4f46-a188-24d3ea119f6e",
   "metadata": {},
   "outputs": [],
   "source": [
    "list.append('sutau')\n"
   ]
  },
  {
   "cell_type": "code",
   "execution_count": 14,
   "id": "6dc398d4-1efb-4d67-9e66-04a6919e9079",
   "metadata": {},
   "outputs": [
    {
     "name": "stdout",
     "output_type": "stream",
     "text": [
      "7\n",
      "2\n",
      "a\n",
      "ankur\n",
      "sutau\n"
     ]
    }
   ],
   "source": [
    "n=len(list)\n",
    "for i in range(0,n):\n",
    "    print(list[i])"
   ]
  },
  {
   "cell_type": "code",
   "execution_count": 15,
   "id": "bdca37ce-fa4c-4e43-8ac9-209e345e112a",
   "metadata": {},
   "outputs": [
    {
     "name": "stdout",
     "output_type": "stream",
     "text": [
      "Help on list object:\n",
      "\n",
      "class list(object)\n",
      " |  list(iterable=(), /)\n",
      " |  \n",
      " |  Built-in mutable sequence.\n",
      " |  \n",
      " |  If no argument is given, the constructor creates a new empty list.\n",
      " |  The argument must be an iterable if specified.\n",
      " |  \n",
      " |  Methods defined here:\n",
      " |  \n",
      " |  __add__(self, value, /)\n",
      " |      Return self+value.\n",
      " |  \n",
      " |  __contains__(self, key, /)\n",
      " |      Return key in self.\n",
      " |  \n",
      " |  __delitem__(self, key, /)\n",
      " |      Delete self[key].\n",
      " |  \n",
      " |  __eq__(self, value, /)\n",
      " |      Return self==value.\n",
      " |  \n",
      " |  __ge__(self, value, /)\n",
      " |      Return self>=value.\n",
      " |  \n",
      " |  __getattribute__(self, name, /)\n",
      " |      Return getattr(self, name).\n",
      " |  \n",
      " |  __getitem__(...)\n",
      " |      x.__getitem__(y) <==> x[y]\n",
      " |  \n",
      " |  __gt__(self, value, /)\n",
      " |      Return self>value.\n",
      " |  \n",
      " |  __iadd__(self, value, /)\n",
      " |      Implement self+=value.\n",
      " |  \n",
      " |  __imul__(self, value, /)\n",
      " |      Implement self*=value.\n",
      " |  \n",
      " |  __init__(self, /, *args, **kwargs)\n",
      " |      Initialize self.  See help(type(self)) for accurate signature.\n",
      " |  \n",
      " |  __iter__(self, /)\n",
      " |      Implement iter(self).\n",
      " |  \n",
      " |  __le__(self, value, /)\n",
      " |      Return self<=value.\n",
      " |  \n",
      " |  __len__(self, /)\n",
      " |      Return len(self).\n",
      " |  \n",
      " |  __lt__(self, value, /)\n",
      " |      Return self<value.\n",
      " |  \n",
      " |  __mul__(self, value, /)\n",
      " |      Return self*value.\n",
      " |  \n",
      " |  __ne__(self, value, /)\n",
      " |      Return self!=value.\n",
      " |  \n",
      " |  __repr__(self, /)\n",
      " |      Return repr(self).\n",
      " |  \n",
      " |  __reversed__(self, /)\n",
      " |      Return a reverse iterator over the list.\n",
      " |  \n",
      " |  __rmul__(self, value, /)\n",
      " |      Return value*self.\n",
      " |  \n",
      " |  __setitem__(self, key, value, /)\n",
      " |      Set self[key] to value.\n",
      " |  \n",
      " |  __sizeof__(self, /)\n",
      " |      Return the size of the list in memory, in bytes.\n",
      " |  \n",
      " |  append(self, object, /)\n",
      " |      Append object to the end of the list.\n",
      " |  \n",
      " |  clear(self, /)\n",
      " |      Remove all items from list.\n",
      " |  \n",
      " |  copy(self, /)\n",
      " |      Return a shallow copy of the list.\n",
      " |  \n",
      " |  count(self, value, /)\n",
      " |      Return number of occurrences of value.\n",
      " |  \n",
      " |  extend(self, iterable, /)\n",
      " |      Extend list by appending elements from the iterable.\n",
      " |  \n",
      " |  index(self, value, start=0, stop=9223372036854775807, /)\n",
      " |      Return first index of value.\n",
      " |      \n",
      " |      Raises ValueError if the value is not present.\n",
      " |  \n",
      " |  insert(self, index, object, /)\n",
      " |      Insert object before index.\n",
      " |  \n",
      " |  pop(self, index=-1, /)\n",
      " |      Remove and return item at index (default last).\n",
      " |      \n",
      " |      Raises IndexError if list is empty or index is out of range.\n",
      " |  \n",
      " |  remove(self, value, /)\n",
      " |      Remove first occurrence of value.\n",
      " |      \n",
      " |      Raises ValueError if the value is not present.\n",
      " |  \n",
      " |  reverse(self, /)\n",
      " |      Reverse *IN PLACE*.\n",
      " |  \n",
      " |  sort(self, /, *, key=None, reverse=False)\n",
      " |      Sort the list in ascending order and return None.\n",
      " |      \n",
      " |      The sort is in-place (i.e. the list itself is modified) and stable (i.e. the\n",
      " |      order of two equal elements is maintained).\n",
      " |      \n",
      " |      If a key function is given, apply it once to each list item and sort them,\n",
      " |      ascending or descending, according to their function values.\n",
      " |      \n",
      " |      The reverse flag can be set to sort in descending order.\n",
      " |  \n",
      " |  ----------------------------------------------------------------------\n",
      " |  Class methods defined here:\n",
      " |  \n",
      " |  __class_getitem__(...) from builtins.type\n",
      " |      See PEP 585\n",
      " |  \n",
      " |  ----------------------------------------------------------------------\n",
      " |  Static methods defined here:\n",
      " |  \n",
      " |  __new__(*args, **kwargs) from builtins.type\n",
      " |      Create and return a new object.  See help(type) for accurate signature.\n",
      " |  \n",
      " |  ----------------------------------------------------------------------\n",
      " |  Data and other attributes defined here:\n",
      " |  \n",
      " |  __hash__ = None\n",
      "\n"
     ]
    }
   ],
   "source": [
    "help(list)"
   ]
  },
  {
   "cell_type": "code",
   "execution_count": 16,
   "id": "c1103f83-524e-4a67-b952-e781b3231497",
   "metadata": {},
   "outputs": [
    {
     "name": "stdout",
     "output_type": "stream",
     "text": [
      "[7, 2, 'a', 'ankur', 'sutau']\n"
     ]
    }
   ],
   "source": [
    "list2=list\n",
    "print(list2)"
   ]
  },
  {
   "cell_type": "code",
   "execution_count": 17,
   "id": "b40b06bf-57d2-467a-9e34-e1c5895b3d72",
   "metadata": {},
   "outputs": [],
   "source": [
    "list.append(66)"
   ]
  },
  {
   "cell_type": "code",
   "execution_count": 18,
   "id": "cb748ca8-308c-449d-b9a2-428a1b310d79",
   "metadata": {},
   "outputs": [
    {
     "data": {
      "text/plain": [
       "[7, 2, 'a', 'ankur', 'sutau', 66]"
      ]
     },
     "execution_count": 18,
     "metadata": {},
     "output_type": "execute_result"
    }
   ],
   "source": [
    "list2"
   ]
  },
  {
   "cell_type": "code",
   "execution_count": 23,
   "id": "efd2287e-5113-47cc-b7a9-869eb5053408",
   "metadata": {},
   "outputs": [
    {
     "data": {
      "text/plain": [
       "[7, 2, 'a', 'ankur', 'sutau', 66, 99, 99, 99]"
      ]
     },
     "execution_count": 23,
     "metadata": {},
     "output_type": "execute_result"
    }
   ],
   "source": [
    "list3 = list.copy()\n",
    "list.append(99)\n",
    "list3"
   ]
  },
  {
   "cell_type": "code",
   "execution_count": 26,
   "id": "ff6d64a0-f38b-4f53-8ab4-1fd326113c41",
   "metadata": {},
   "outputs": [
    {
     "data": {
      "text/plain": [
       "[7,\n",
       " 2,\n",
       " 'a',\n",
       " 'ankur',\n",
       " 'sutau',\n",
       " 66,\n",
       " 99,\n",
       " 99,\n",
       " 99,\n",
       " 't',\n",
       " 'e',\n",
       " 's',\n",
       " 't',\n",
       " 't',\n",
       " 'e',\n",
       " 's',\n",
       " 't',\n",
       " 't',\n",
       " 'e',\n",
       " 's',\n",
       " 't']"
      ]
     },
     "execution_count": 26,
     "metadata": {},
     "output_type": "execute_result"
    }
   ],
   "source": [
    "list3.extend(\"test\")\n",
    "list3"
   ]
  },
  {
   "cell_type": "code",
   "execution_count": 1,
   "id": "8ea07139-9634-4b7f-bcc7-1b4fe53473c9",
   "metadata": {},
   "outputs": [
    {
     "data": {
      "text/plain": [
       "''"
      ]
     },
     "execution_count": 1,
     "metadata": {},
     "output_type": "execute_result"
    }
   ],
   "source": [
    "a = \"gyan_prakasj\"\n",
    "a[-4:-9:1]"
   ]
  },
  {
   "cell_type": "code",
   "execution_count": 2,
   "id": "fa391fda-83f5-4607-aec8-2a8401259b28",
   "metadata": {},
   "outputs": [
    {
     "data": {
      "text/plain": [
       "'karp_'"
      ]
     },
     "execution_count": 2,
     "metadata": {},
     "output_type": "execute_result"
    }
   ],
   "source": [
    "a[-4:-9:-1]"
   ]
  },
  {
   "cell_type": "code",
   "execution_count": 3,
   "id": "c0e9291e-5e6f-4e6b-b014-7e0e73e27128",
   "metadata": {},
   "outputs": [
    {
     "data": {
      "text/plain": [
       "'11'"
      ]
     },
     "execution_count": 3,
     "metadata": {},
     "output_type": "execute_result"
    }
   ],
   "source": [
    "'1'+'1'"
   ]
  },
  {
   "cell_type": "code",
   "execution_count": 7,
   "id": "1d61bc25-e954-4983-8abb-e668e46a8af6",
   "metadata": {},
   "outputs": [
    {
     "data": {
      "text/plain": [
       "True"
      ]
     },
     "execution_count": 7,
     "metadata": {},
     "output_type": "execute_result"
    }
   ],
   "source": [
    "'y' in a"
   ]
  },
  {
   "cell_type": "code",
   "execution_count": 17,
   "id": "e1749b83-c2ee-4035-834b-9202d0540d4a",
   "metadata": {},
   "outputs": [
    {
     "name": "stdout",
     "output_type": "stream",
     "text": [
      "[4, 5, 'A', 1, 2, 3]\n",
      "[4, 5, [1, 2, 3]]\n"
     ]
    }
   ],
   "source": [
    "l1 = [1,2,3]\n",
    "l2 = [4,5,*l1]\n",
    "l3 = [4,5,l1]\n",
    "l2.insert(2,'A')\n",
    "print(l2)\n",
    "print(l3)"
   ]
  },
  {
   "cell_type": "code",
   "execution_count": 20,
   "id": "0185669a-34f2-4663-881b-94fc0b590b19",
   "metadata": {},
   "outputs": [
    {
     "data": {
      "text/plain": [
       "[0, 1, 22, 25, 40, 91]"
      ]
     },
     "execution_count": 20,
     "metadata": {},
     "output_type": "execute_result"
    }
   ],
   "source": [
    "s = [40,25,1,91,22,0]\n",
    "s.sort()\n",
    "s"
   ]
  },
  {
   "cell_type": "markdown",
   "id": "fd050638-52d5-4c6e-b518-22b544833b80",
   "metadata": {},
   "source": [
    "**12.09.2024**"
   ]
  },
  {
   "cell_type": "code",
   "execution_count": 1,
   "id": "786cd212-a68f-4c79-839d-38a5f7756113",
   "metadata": {},
   "outputs": [
    {
     "data": {
      "text/plain": [
       "[2, 4, 5, 6]"
      ]
     },
     "execution_count": 1,
     "metadata": {},
     "output_type": "execute_result"
    }
   ],
   "source": [
    "l1 = [4,2,5,6]\n",
    "l1.sort() \n",
    "l1"
   ]
  },
  {
   "cell_type": "raw",
   "id": "6fd47ae2-1b2e-43fe-bcfd-39301939cc9c",
   "metadata": {},
   "source": [
    "l1 = [5,2,1,6]\n",
    "l2  =sorted(l1)\n",
    "l1"
   ]
  },
  {
   "cell_type": "code",
   "execution_count": 7,
   "id": "c4ad17e6-c1c5-49ae-8915-d46fcff50ca5",
   "metadata": {},
   "outputs": [
    {
     "data": {
      "text/plain": [
       "'ankur  btech iiitrnanchi'"
      ]
     },
     "execution_count": 7,
     "metadata": {},
     "output_type": "execute_result"
    }
   ],
   "source": [
    "l3 = [\"ankur\" , \" btech\" , \"iiitrnanchi\"]\n",
    "l4 = ' '.join(l3)\n",
    "l4"
   ]
  },
  {
   "cell_type": "code",
   "execution_count": 9,
   "id": "91ce86e8-1c6b-49d5-bdf4-84606ea56e77",
   "metadata": {},
   "outputs": [
    {
     "name": "stdout",
     "output_type": "stream",
     "text": [
      "[1, 4, 9, 16, 25, 36, 49, 64, 81]\n",
      "[4, 16, 36, 64]\n"
     ]
    }
   ],
   "source": [
    "l1 = [1,2,3,4,5,6,7,8,9]\n",
    "l2 = [x**2 for x in l1]\n",
    "l3 = [x**2 for x in l1 if x%2==0]\n",
    "print(l2)\n",
    "print(l3)"
   ]
  },
  {
   "cell_type": "code",
   "execution_count": 14,
   "id": "5d779aa1-85cb-4278-8975-3c1a25d3d705",
   "metadata": {},
   "outputs": [
    {
     "name": "stdout",
     "output_type": "stream",
     "text": [
      "[20, 22, 24, 26, 28, 30, 32, 34, 36, 38, 40, 42, 44, 46, 48, 50]\n"
     ]
    }
   ],
   "source": [
    "l = [i for i in range(20,51) if i%2 ==0]\n",
    "print( l)"
   ]
  },
  {
   "cell_type": "code",
   "execution_count": 15,
   "id": "1e968327-2f5e-4213-af75-821d9dd56c42",
   "metadata": {},
   "outputs": [
    {
     "data": {
      "text/plain": [
       "[0, 1, 8, 27, 64, 125, 36, 49, 64]"
      ]
     },
     "execution_count": 15,
     "metadata": {},
     "output_type": "execute_result"
    }
   ],
   "source": [
    "l = [n*n if n>5 else n*n*n for n in range(0,9)]\n",
    "l"
   ]
  },
  {
   "cell_type": "code",
   "execution_count": 17,
   "id": "249b7902-04a6-4406-8398-e5bd65ac1c8e",
   "metadata": {},
   "outputs": [
    {
     "data": {
      "text/plain": [
       "['g', 'y', '*', 'n', ' ', 'p', 'r', '*', 'k', '*', 's', 'h']"
      ]
     },
     "execution_count": 17,
     "metadata": {},
     "output_type": "execute_result"
    }
   ],
   "source": [
    "a = \"gyan prakash\"\n",
    "g = ['*' if i in \"aeiouAEIOU\" else i for i in a]\n",
    "g"
   ]
  },
  {
   "cell_type": "code",
   "execution_count": 26,
   "id": "931dda89-0416-45bf-b206-962adf005577",
   "metadata": {},
   "outputs": [
    {
     "name": "stdout",
     "output_type": "stream",
     "text": [
      "3\n"
     ]
    }
   ],
   "source": [
    "m = [[1,2,3],[4,5,6],[7,8,9]]\n",
    "print(m[0][2])"
   ]
  },
  {
   "cell_type": "code",
   "execution_count": 29,
   "id": "b199fbea-c32e-40a5-b1f9-7b1029f70c81",
   "metadata": {},
   "outputs": [
    {
     "name": "stdout",
     "output_type": "stream",
     "text": [
      "[1, 2, 3]\n",
      "[4, 5, 6]\n",
      "[7, 8, 9]\n"
     ]
    }
   ],
   "source": [
    "for r in m:\n",
    "    print(r)"
   ]
  },
  {
   "cell_type": "code",
   "execution_count": 42,
   "id": "17d2ef70-c705-4f6d-a5da-ceed294470c7",
   "metadata": {},
   "outputs": [
    {
     "name": "stdout",
     "output_type": "stream",
     "text": [
      "1\n",
      "2\n",
      "3\n",
      "4\n",
      "5\n",
      "6\n",
      "7\n",
      "8\n",
      "9\n"
     ]
    }
   ],
   "source": [
    "for i in m:\n",
    "    for j in i:\n",
    "        print(j)"
   ]
  },
  {
   "cell_type": "code",
   "execution_count": 46,
   "id": "50f7e906-2748-46a2-bb39-ec1e315a5295",
   "metadata": {},
   "outputs": [
    {
     "name": "stdout",
     "output_type": "stream",
     "text": [
      "1\n",
      "2\n",
      "3\n",
      "4\n",
      "5\n",
      "6\n",
      "7\n",
      "8\n",
      "9\n"
     ]
    }
   ],
   "source": [
    "for i in [ l for r in m for l in r]:\n",
    "    print(i)"
   ]
  },
  {
   "cell_type": "markdown",
   "id": "fb9fec38-14ff-4d9b-b38f-3e17ec4fca0b",
   "metadata": {},
   "source": [
    "**TUPLE**"
   ]
  },
  {
   "cell_type": "code",
   "execution_count": 49,
   "id": "9bca9008-b922-4c7c-9b8f-0aaf53640072",
   "metadata": {},
   "outputs": [
    {
     "data": {
      "text/plain": [
       "tuple"
      ]
     },
     "execution_count": 49,
     "metadata": {},
     "output_type": "execute_result"
    }
   ],
   "source": [
    "a = (1,2,\"an\")\n",
    "b = \"ankur\" #string\n",
    "c = tuple(b)\n",
    "type(c)"
   ]
  },
  {
   "cell_type": "code",
   "execution_count": 50,
   "id": "020d4d04-fc1b-4d6a-86e3-dc18926fa0b0",
   "metadata": {},
   "outputs": [
    {
     "data": {
      "text/plain": [
       "(4, (1, 2, 3), 6)"
      ]
     },
     "execution_count": 50,
     "metadata": {},
     "output_type": "execute_result"
    }
   ],
   "source": [
    "t1 = 1,2,3\n",
    "t2 = 4,t1 ,6\n",
    "t2"
   ]
  },
  {
   "cell_type": "code",
   "execution_count": 51,
   "id": "d0786382-8c29-469a-a417-ff0aa42630d4",
   "metadata": {},
   "outputs": [
    {
     "data": {
      "text/plain": [
       "(4, 1, 2, 3, 6)"
      ]
     },
     "execution_count": 51,
     "metadata": {},
     "output_type": "execute_result"
    }
   ],
   "source": [
    "t3 = 4,*t1 ,6\n",
    "t3"
   ]
  },
  {
   "cell_type": "code",
   "execution_count": 71,
   "id": "01d3241a-9cbe-4e00-b672-016fd6421951",
   "metadata": {},
   "outputs": [
    {
     "name": "stdout",
     "output_type": "stream",
     "text": [
      "[('vaibhav', 68), ('ankur', 85), ('sutanu', 85), ('gyan', 86), ('amrit', 87)]\n",
      "('vaibhav', 68)\n",
      "('amrit', 87)\n",
      "4\n"
     ]
    }
   ],
   "source": [
    "students = (\"ankur\" , \"gyan\" , \"amrit\" , \"vaibhav\" , \"sutanu\")\n",
    "marks = (85,86,87,68,85)\n",
    "tp = zip(students , marks)\n",
    "res =  tuple(tp)\n",
    "lst = list(res)\n",
    "lst.sort(key = lambda x:x[1])\n",
    "print(lst)\n",
    "print(lst[0] )\n",
    "print(lst[len(lst)-1] )\n",
    "cnt = 0\n",
    "for i in lst:\n",
    "    if(i[1]>75):\n",
    "        cnt+=1\n",
    "print(cnt)  \n"
   ]
  }
 ],
 "metadata": {
  "kernelspec": {
   "display_name": "Python 3 (ipykernel)",
   "language": "python",
   "name": "python3"
  },
  "language_info": {
   "codemirror_mode": {
    "name": "ipython",
    "version": 3
   },
   "file_extension": ".py",
   "mimetype": "text/x-python",
   "name": "python",
   "nbconvert_exporter": "python",
   "pygments_lexer": "ipython3",
   "version": "3.11.4"
  }
 },
 "nbformat": 4,
 "nbformat_minor": 5
}
